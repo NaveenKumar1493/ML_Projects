{
 "cells": [
  {
   "cell_type": "markdown",
   "id": "d237fe90",
   "metadata": {},
   "source": [
    "# Problem Statement\n",
    "- The objective of the dataset is to diagnostically predict whether or not a patient has diabetes, based on certain diagnostic measurements included in the dataset. All patients are females of at least 21 years of age and of Pima Indian heritage.\n",
    "- The dataset consists of several medical predictor variables and one target variable, Outcome. Predictor variables include the number of pregnancies the patients have had, their BMI, insulin level, age, and so on"
   ]
  },
  {
   "cell_type": "code",
   "execution_count": 2,
   "id": "3d8c013f",
   "metadata": {},
   "outputs": [],
   "source": [
    "# Import the Required Liabraries\n",
    "import pandas as pd\n",
    "from sklearn import model_selection\n",
    "\n",
    "# For AdaBoost\n",
    "from sklearn.ensemble import AdaBoostClassifier\n",
    "\n",
    "# For XGBoost\n",
    "from sklearn import svm\n",
    "from xgboost import XGBClassifier"
   ]
  },
  {
   "cell_type": "code",
   "execution_count": 3,
   "id": "8acd5ea4",
   "metadata": {},
   "outputs": [],
   "source": [
    "df = pd.read_csv(r\"C:\\Users\\navee\\OneDrive\\Desktop\\Simplilearn\\Machine Learning\\dataset\\pima-indians-diabetes.csv\")"
   ]
  },
  {
   "cell_type": "code",
   "execution_count": 4,
   "id": "752c8939",
   "metadata": {
    "scrolled": true
   },
   "outputs": [
    {
     "data": {
      "text/html": [
       "<div>\n",
       "<style scoped>\n",
       "    .dataframe tbody tr th:only-of-type {\n",
       "        vertical-align: middle;\n",
       "    }\n",
       "\n",
       "    .dataframe tbody tr th {\n",
       "        vertical-align: top;\n",
       "    }\n",
       "\n",
       "    .dataframe thead th {\n",
       "        text-align: right;\n",
       "    }\n",
       "</style>\n",
       "<table border=\"1\" class=\"dataframe\">\n",
       "  <thead>\n",
       "    <tr style=\"text-align: right;\">\n",
       "      <th></th>\n",
       "      <th>Pregnancies</th>\n",
       "      <th>Glucose</th>\n",
       "      <th>BloodPressure</th>\n",
       "      <th>SkinThickness</th>\n",
       "      <th>Insulin</th>\n",
       "      <th>BMI</th>\n",
       "      <th>DiabetesPedigreeFunction</th>\n",
       "      <th>Age</th>\n",
       "      <th>Outcome</th>\n",
       "    </tr>\n",
       "  </thead>\n",
       "  <tbody>\n",
       "    <tr>\n",
       "      <th>0</th>\n",
       "      <td>6</td>\n",
       "      <td>148</td>\n",
       "      <td>72</td>\n",
       "      <td>35</td>\n",
       "      <td>0</td>\n",
       "      <td>33.6</td>\n",
       "      <td>0.627</td>\n",
       "      <td>50</td>\n",
       "      <td>1</td>\n",
       "    </tr>\n",
       "    <tr>\n",
       "      <th>1</th>\n",
       "      <td>1</td>\n",
       "      <td>85</td>\n",
       "      <td>66</td>\n",
       "      <td>29</td>\n",
       "      <td>0</td>\n",
       "      <td>26.6</td>\n",
       "      <td>0.351</td>\n",
       "      <td>31</td>\n",
       "      <td>0</td>\n",
       "    </tr>\n",
       "    <tr>\n",
       "      <th>2</th>\n",
       "      <td>8</td>\n",
       "      <td>183</td>\n",
       "      <td>64</td>\n",
       "      <td>0</td>\n",
       "      <td>0</td>\n",
       "      <td>23.3</td>\n",
       "      <td>0.672</td>\n",
       "      <td>32</td>\n",
       "      <td>1</td>\n",
       "    </tr>\n",
       "    <tr>\n",
       "      <th>3</th>\n",
       "      <td>1</td>\n",
       "      <td>89</td>\n",
       "      <td>66</td>\n",
       "      <td>23</td>\n",
       "      <td>94</td>\n",
       "      <td>28.1</td>\n",
       "      <td>0.167</td>\n",
       "      <td>21</td>\n",
       "      <td>0</td>\n",
       "    </tr>\n",
       "    <tr>\n",
       "      <th>4</th>\n",
       "      <td>0</td>\n",
       "      <td>137</td>\n",
       "      <td>40</td>\n",
       "      <td>35</td>\n",
       "      <td>168</td>\n",
       "      <td>43.1</td>\n",
       "      <td>2.288</td>\n",
       "      <td>33</td>\n",
       "      <td>1</td>\n",
       "    </tr>\n",
       "  </tbody>\n",
       "</table>\n",
       "</div>"
      ],
      "text/plain": [
       "   Pregnancies  Glucose  BloodPressure  SkinThickness  Insulin   BMI  \\\n",
       "0            6      148             72             35        0  33.6   \n",
       "1            1       85             66             29        0  26.6   \n",
       "2            8      183             64              0        0  23.3   \n",
       "3            1       89             66             23       94  28.1   \n",
       "4            0      137             40             35      168  43.1   \n",
       "\n",
       "   DiabetesPedigreeFunction  Age  Outcome  \n",
       "0                     0.627   50        1  \n",
       "1                     0.351   31        0  \n",
       "2                     0.672   32        1  \n",
       "3                     0.167   21        0  \n",
       "4                     2.288   33        1  "
      ]
     },
     "execution_count": 4,
     "metadata": {},
     "output_type": "execute_result"
    }
   ],
   "source": [
    "df.head()"
   ]
  },
  {
   "cell_type": "code",
   "execution_count": 5,
   "id": "a8ff4262",
   "metadata": {},
   "outputs": [
    {
     "name": "stdout",
     "output_type": "stream",
     "text": [
      "<class 'pandas.core.frame.DataFrame'>\n",
      "RangeIndex: 768 entries, 0 to 767\n",
      "Data columns (total 9 columns):\n",
      " #   Column                    Non-Null Count  Dtype  \n",
      "---  ------                    --------------  -----  \n",
      " 0   Pregnancies               768 non-null    int64  \n",
      " 1   Glucose                   768 non-null    int64  \n",
      " 2   BloodPressure             768 non-null    int64  \n",
      " 3   SkinThickness             768 non-null    int64  \n",
      " 4   Insulin                   768 non-null    int64  \n",
      " 5   BMI                       768 non-null    float64\n",
      " 6   DiabetesPedigreeFunction  768 non-null    float64\n",
      " 7   Age                       768 non-null    int64  \n",
      " 8   Outcome                   768 non-null    int64  \n",
      "dtypes: float64(2), int64(7)\n",
      "memory usage: 54.1 KB\n"
     ]
    }
   ],
   "source": [
    "df.info()"
   ]
  },
  {
   "cell_type": "code",
   "execution_count": 6,
   "id": "a58187c7",
   "metadata": {},
   "outputs": [],
   "source": [
    "# Extract the values from column in the form of array\n",
    "array = df.values\n",
    "X = array[:,0:8]\n",
    "y = array[:,8]\n",
    "seed = 7\n",
    "num_tress = 30"
   ]
  },
  {
   "cell_type": "code",
   "execution_count": 7,
   "id": "e520f994",
   "metadata": {},
   "outputs": [
    {
     "name": "stdout",
     "output_type": "stream",
     "text": [
      "[0.76623377 0.71428571 0.71428571 0.79220779 0.79220779 0.74025974\n",
      " 0.68831169 0.77922078 0.80263158 0.76315789]\n",
      "0.7552802460697198\n"
     ]
    }
   ],
   "source": [
    "'''Let's create AdaBoost Model, AdaBoost uses decision tree classifier as the default classifier,\n",
    "Pass the model with in the cross validation score fuction to evaluate the results using the cross validation technique,\n",
    "Construct the model now by splitting the train test indices in to 10 consecutive folds. Again evaluate the models such\n",
    "that each fold gets used once as a validation while the remaining Nine folds form the training sets '''\n",
    "kfold= model_selection.KFold(n_splits=10, random_state=seed,shuffle=True)\n",
    "model_ADA = AdaBoostClassifier(n_estimators=num_tress)\n",
    "results_ADA = model_selection.cross_val_score(model_ADA,X,y,cv=kfold)\n",
    "print(results_ADA)\n",
    "print(results_ADA.mean())"
   ]
  },
  {
   "cell_type": "markdown",
   "id": "47e7dadb",
   "metadata": {},
   "source": [
    "- AdaBoosts gives an accuracy of around 76%"
   ]
  },
  {
   "cell_type": "code",
   "execution_count": 14,
   "id": "cc57a618",
   "metadata": {},
   "outputs": [
    {
     "name": "stdout",
     "output_type": "stream",
     "text": [
      "[0.71428571 0.79220779 0.68831169 0.66233766 0.79220779 0.79220779\n",
      " 0.79220779 0.80519481 0.68421053 0.77631579]\n",
      "0.7499487354750513\n"
     ]
    }
   ],
   "source": [
    "# Similarly we apply the XGBoost Algorithm\n",
    "\n",
    "# Intialize the XGBoost Classifier under the name model XG\n",
    "model_XG = XGBClassifier()\n",
    "seed = 7\n",
    "num_tress = 30\n",
    "\n",
    "# Costruct the XGB Classifier using the K-Folds technique such that number of folds equals to 10, evaluate \n",
    "# the model using the cross validation score similar to the way we did for AdaBoost Classifier\n",
    "kfold= model_selection.KFold(n_splits=10)\n",
    "model_XG = XGBClassifier(n_estimators=num_tress, random_state=seed)\n",
    "results_XG = model_selection.cross_val_score(model_XG,X,y,cv=kfold)\n",
    "print(results_XG)\n",
    "print(results_XG.mean())"
   ]
  },
  {
   "cell_type": "markdown",
   "id": "d2aec66e",
   "metadata": {},
   "source": [
    "-  XGBoost gives an accuracy around of 75%"
   ]
  },
  {
   "cell_type": "markdown",
   "id": "232a7e0d",
   "metadata": {},
   "source": [
    "- The accuracy of both models is almost the same "
   ]
  },
  {
   "cell_type": "markdown",
   "id": "a8d7d4cf",
   "metadata": {},
   "source": [
    "# ___Summary Table___\n",
    "\n",
    "### Step-1 Import the Required Liabraries\n",
    "### Step-2 Build model using AdaBoost and XGBoost\n",
    "### Step-3 Compare the Accuracy of Classifiers"
   ]
  }
 ],
 "metadata": {
  "kernelspec": {
   "display_name": "Python 3 (ipykernel)",
   "language": "python",
   "name": "python3"
  },
  "language_info": {
   "codemirror_mode": {
    "name": "ipython",
    "version": 3
   },
   "file_extension": ".py",
   "mimetype": "text/x-python",
   "name": "python",
   "nbconvert_exporter": "python",
   "pygments_lexer": "ipython3",
   "version": "3.9.12"
  }
 },
 "nbformat": 4,
 "nbformat_minor": 5
}
