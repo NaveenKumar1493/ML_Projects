{
 "cells": [
  {
   "cell_type": "markdown",
   "id": "6e797450",
   "metadata": {},
   "source": [
    "# Problem Statement\n",
    "- The Titanic dataset provides information on the fate of the passengers on the Titanic, summarized according to economic status, sex, age, and survival.\n",
    "> __Task is to predict the survival of the Titanic Passenger__"
   ]
  },
  {
   "cell_type": "code",
   "execution_count": 1,
   "id": "4617149a",
   "metadata": {},
   "outputs": [],
   "source": [
    "import pandas as pd\n",
    "import numpy as np\n",
    "\n",
    "import matplotlib\n",
    "import matplotlib.pyplot as plt\n",
    "from pandas. plotting import scatter_matrix\n",
    "\n",
    "import seaborn as sns\n",
    "sns.set(style = \"white\",color_codes=True)\n",
    "sns.set(font_scale=1.5)\n",
    "\n",
    "from sklearn.model_selection import train_test_split  \n",
    "from sklearn.linear_model import LogisticRegression\n",
    "\n",
    "from sklearn.metrics import confusion_matrix\n",
    "from sklearn.metrics import classification_report\n",
    "from sklearn.metrics import accuracy_score\n",
    "from sklearn.metrics import precision_score\n",
    "from sklearn.metrics import recall_score\n",
    "from sklearn.metrics import f1_score\n",
    "from sklearn import metrics\n",
    "\n",
    "import warnings\n",
    "warnings.filterwarnings('ignore')"
   ]
  },
  {
   "cell_type": "code",
   "execution_count": 2,
   "id": "3c581514",
   "metadata": {},
   "outputs": [],
   "source": [
    "df_train = pd.read_csv(r\"C:\\Users\\navee\\OneDrive\\Desktop\\Simplilearn\\Machine Learning\\dataset\\Titanic_train.csv\") "
   ]
  },
  {
   "cell_type": "code",
   "execution_count": 3,
   "id": "6d4991ed",
   "metadata": {},
   "outputs": [
    {
     "data": {
      "text/plain": [
       "(891, 12)"
      ]
     },
     "execution_count": 3,
     "metadata": {},
     "output_type": "execute_result"
    }
   ],
   "source": [
    "df_train.shape"
   ]
  },
  {
   "cell_type": "code",
   "execution_count": 4,
   "id": "ee67f48d",
   "metadata": {
    "scrolled": true
   },
   "outputs": [
    {
     "data": {
      "text/plain": [
       "0    549\n",
       "1    342\n",
       "Name: Survived, dtype: int64"
      ]
     },
     "execution_count": 4,
     "metadata": {},
     "output_type": "execute_result"
    }
   ],
   "source": [
    "df_train.Survived.value_counts()"
   ]
  },
  {
   "cell_type": "code",
   "execution_count": 5,
   "id": "f8ebaec1",
   "metadata": {},
   "outputs": [
    {
     "data": {
      "text/plain": [
       "male      577\n",
       "female    314\n",
       "Name: Sex, dtype: int64"
      ]
     },
     "execution_count": 5,
     "metadata": {},
     "output_type": "execute_result"
    }
   ],
   "source": [
    "df_train.Sex.value_counts()"
   ]
  },
  {
   "cell_type": "code",
   "execution_count": 6,
   "id": "84864d59",
   "metadata": {},
   "outputs": [
    {
     "data": {
      "text/plain": [
       "S    644\n",
       "C    168\n",
       "Q     77\n",
       "Name: Embarked, dtype: int64"
      ]
     },
     "execution_count": 6,
     "metadata": {},
     "output_type": "execute_result"
    }
   ],
   "source": [
    "df_train.Embarked.value_counts()"
   ]
  },
  {
   "cell_type": "code",
   "execution_count": 7,
   "id": "9dfbbfce",
   "metadata": {
    "scrolled": true
   },
   "outputs": [
    {
     "data": {
      "text/plain": [
       "PassengerId      0\n",
       "Survived         0\n",
       "Pclass           0\n",
       "Name             0\n",
       "Sex              0\n",
       "Age            177\n",
       "SibSp            0\n",
       "Parch            0\n",
       "Ticket           0\n",
       "Fare             0\n",
       "Cabin          687\n",
       "Embarked         2\n",
       "dtype: int64"
      ]
     },
     "execution_count": 7,
     "metadata": {},
     "output_type": "execute_result"
    }
   ],
   "source": [
    "df_train.isna().sum()"
   ]
  },
  {
   "cell_type": "code",
   "execution_count": 8,
   "id": "a5b203c5",
   "metadata": {},
   "outputs": [
    {
     "data": {
      "text/html": [
       "<div>\n",
       "<style scoped>\n",
       "    .dataframe tbody tr th:only-of-type {\n",
       "        vertical-align: middle;\n",
       "    }\n",
       "\n",
       "    .dataframe tbody tr th {\n",
       "        vertical-align: top;\n",
       "    }\n",
       "\n",
       "    .dataframe thead th {\n",
       "        text-align: right;\n",
       "    }\n",
       "</style>\n",
       "<table border=\"1\" class=\"dataframe\">\n",
       "  <thead>\n",
       "    <tr style=\"text-align: right;\">\n",
       "      <th></th>\n",
       "      <th>Survived</th>\n",
       "      <th>Pclass</th>\n",
       "      <th>Sex</th>\n",
       "      <th>Age</th>\n",
       "      <th>SibSp</th>\n",
       "      <th>Parch</th>\n",
       "      <th>Fare</th>\n",
       "      <th>Embarked</th>\n",
       "    </tr>\n",
       "  </thead>\n",
       "  <tbody>\n",
       "    <tr>\n",
       "      <th>0</th>\n",
       "      <td>0</td>\n",
       "      <td>3</td>\n",
       "      <td>male</td>\n",
       "      <td>22.0</td>\n",
       "      <td>1</td>\n",
       "      <td>0</td>\n",
       "      <td>7.2500</td>\n",
       "      <td>S</td>\n",
       "    </tr>\n",
       "    <tr>\n",
       "      <th>1</th>\n",
       "      <td>1</td>\n",
       "      <td>1</td>\n",
       "      <td>female</td>\n",
       "      <td>38.0</td>\n",
       "      <td>1</td>\n",
       "      <td>0</td>\n",
       "      <td>71.2833</td>\n",
       "      <td>C</td>\n",
       "    </tr>\n",
       "    <tr>\n",
       "      <th>2</th>\n",
       "      <td>1</td>\n",
       "      <td>3</td>\n",
       "      <td>female</td>\n",
       "      <td>26.0</td>\n",
       "      <td>0</td>\n",
       "      <td>0</td>\n",
       "      <td>7.9250</td>\n",
       "      <td>S</td>\n",
       "    </tr>\n",
       "    <tr>\n",
       "      <th>3</th>\n",
       "      <td>1</td>\n",
       "      <td>1</td>\n",
       "      <td>female</td>\n",
       "      <td>35.0</td>\n",
       "      <td>1</td>\n",
       "      <td>0</td>\n",
       "      <td>53.1000</td>\n",
       "      <td>S</td>\n",
       "    </tr>\n",
       "    <tr>\n",
       "      <th>4</th>\n",
       "      <td>0</td>\n",
       "      <td>3</td>\n",
       "      <td>male</td>\n",
       "      <td>35.0</td>\n",
       "      <td>0</td>\n",
       "      <td>0</td>\n",
       "      <td>8.0500</td>\n",
       "      <td>S</td>\n",
       "    </tr>\n",
       "  </tbody>\n",
       "</table>\n",
       "</div>"
      ],
      "text/plain": [
       "   Survived  Pclass     Sex   Age  SibSp  Parch     Fare Embarked\n",
       "0         0       3    male  22.0      1      0   7.2500        S\n",
       "1         1       1  female  38.0      1      0  71.2833        C\n",
       "2         1       3  female  26.0      0      0   7.9250        S\n",
       "3         1       1  female  35.0      1      0  53.1000        S\n",
       "4         0       3    male  35.0      0      0   8.0500        S"
      ]
     },
     "execution_count": 8,
     "metadata": {},
     "output_type": "execute_result"
    }
   ],
   "source": [
    "df_train = df_train.drop([\"PassengerId\",\"Name\",\"Ticket\",\"Cabin\"], axis=1)\n",
    "df_train.head()"
   ]
  },
  {
   "cell_type": "code",
   "execution_count": 9,
   "id": "8f8263f1",
   "metadata": {},
   "outputs": [],
   "source": [
    "# Deal With Missing values of Age, Write a function to  find each null value in the age\n",
    "# We will assignin value bases on passenger calss\n",
    "def age_approx(cols):\n",
    "    Age = cols[0]\n",
    "    Pclass = cols[1]\n",
    "    \n",
    "    if pd.isnull(Age):\n",
    "        if Pclass == 1:\n",
    "            return 37\n",
    "        elif Pclass ==2:\n",
    "            return 29\n",
    "        else:\n",
    "            return 24\n",
    "    else:\n",
    "        return Age"
   ]
  },
  {
   "cell_type": "code",
   "execution_count": 10,
   "id": "2a8c93fe",
   "metadata": {
    "scrolled": true
   },
   "outputs": [
    {
     "data": {
      "text/html": [
       "<div>\n",
       "<style scoped>\n",
       "    .dataframe tbody tr th:only-of-type {\n",
       "        vertical-align: middle;\n",
       "    }\n",
       "\n",
       "    .dataframe tbody tr th {\n",
       "        vertical-align: top;\n",
       "    }\n",
       "\n",
       "    .dataframe thead th {\n",
       "        text-align: right;\n",
       "    }\n",
       "</style>\n",
       "<table border=\"1\" class=\"dataframe\">\n",
       "  <thead>\n",
       "    <tr style=\"text-align: right;\">\n",
       "      <th></th>\n",
       "      <th>Survived</th>\n",
       "      <th>Age</th>\n",
       "      <th>SibSp</th>\n",
       "      <th>Parch</th>\n",
       "      <th>Fare</th>\n",
       "    </tr>\n",
       "    <tr>\n",
       "      <th>Pclass</th>\n",
       "      <th></th>\n",
       "      <th></th>\n",
       "      <th></th>\n",
       "      <th></th>\n",
       "      <th></th>\n",
       "    </tr>\n",
       "  </thead>\n",
       "  <tbody>\n",
       "    <tr>\n",
       "      <th>1</th>\n",
       "      <td>0.629630</td>\n",
       "      <td>38.233441</td>\n",
       "      <td>0.416667</td>\n",
       "      <td>0.356481</td>\n",
       "      <td>84.154687</td>\n",
       "    </tr>\n",
       "    <tr>\n",
       "      <th>2</th>\n",
       "      <td>0.472826</td>\n",
       "      <td>29.877630</td>\n",
       "      <td>0.402174</td>\n",
       "      <td>0.380435</td>\n",
       "      <td>20.662183</td>\n",
       "    </tr>\n",
       "    <tr>\n",
       "      <th>3</th>\n",
       "      <td>0.242363</td>\n",
       "      <td>25.140620</td>\n",
       "      <td>0.615071</td>\n",
       "      <td>0.393075</td>\n",
       "      <td>13.675550</td>\n",
       "    </tr>\n",
       "  </tbody>\n",
       "</table>\n",
       "</div>"
      ],
      "text/plain": [
       "        Survived        Age     SibSp     Parch       Fare\n",
       "Pclass                                                    \n",
       "1       0.629630  38.233441  0.416667  0.356481  84.154687\n",
       "2       0.472826  29.877630  0.402174  0.380435  20.662183\n",
       "3       0.242363  25.140620  0.615071  0.393075  13.675550"
      ]
     },
     "execution_count": 10,
     "metadata": {},
     "output_type": "execute_result"
    }
   ],
   "source": [
    "df_train.groupby([\"Pclass\"]).mean()"
   ]
  },
  {
   "cell_type": "code",
   "execution_count": 11,
   "id": "4dbf2865",
   "metadata": {},
   "outputs": [],
   "source": [
    "df_train[\"Age\"] = df_train[[\"Age\",\"Pclass\"]].apply(age_approx,axis=1)"
   ]
  },
  {
   "cell_type": "code",
   "execution_count": 12,
   "id": "101aa4e5",
   "metadata": {
    "scrolled": true
   },
   "outputs": [],
   "source": [
    "df_train.dropna(inplace=True)"
   ]
  },
  {
   "cell_type": "code",
   "execution_count": 13,
   "id": "0ac5f257",
   "metadata": {},
   "outputs": [
    {
     "name": "stdout",
     "output_type": "stream",
     "text": [
      "<class 'pandas.core.frame.DataFrame'>\n",
      "Int64Index: 889 entries, 0 to 890\n",
      "Data columns (total 8 columns):\n",
      " #   Column    Non-Null Count  Dtype  \n",
      "---  ------    --------------  -----  \n",
      " 0   Survived  889 non-null    int64  \n",
      " 1   Pclass    889 non-null    int64  \n",
      " 2   Sex       889 non-null    object \n",
      " 3   Age       889 non-null    float64\n",
      " 4   SibSp     889 non-null    int64  \n",
      " 5   Parch     889 non-null    int64  \n",
      " 6   Fare      889 non-null    float64\n",
      " 7   Embarked  889 non-null    object \n",
      "dtypes: float64(2), int64(4), object(2)\n",
      "memory usage: 62.5+ KB\n"
     ]
    }
   ],
   "source": [
    "df_train.info()"
   ]
  },
  {
   "cell_type": "code",
   "execution_count": 14,
   "id": "2fbafaf8",
   "metadata": {},
   "outputs": [],
   "source": [
    "df_train_dummied = pd.get_dummies(df_train,columns=[\"Sex\"])"
   ]
  },
  {
   "cell_type": "code",
   "execution_count": 15,
   "id": "b9b01b62",
   "metadata": {},
   "outputs": [],
   "source": [
    "df_train_dummied = pd.get_dummies(df_train_dummied,columns=[\"Embarked\"])"
   ]
  },
  {
   "cell_type": "code",
   "execution_count": 16,
   "id": "cd07a5d9",
   "metadata": {},
   "outputs": [
    {
     "name": "stdout",
     "output_type": "stream",
     "text": [
      "<class 'pandas.core.frame.DataFrame'>\n",
      "Int64Index: 889 entries, 0 to 890\n",
      "Data columns (total 11 columns):\n",
      " #   Column      Non-Null Count  Dtype  \n",
      "---  ------      --------------  -----  \n",
      " 0   Survived    889 non-null    int64  \n",
      " 1   Pclass      889 non-null    int64  \n",
      " 2   Age         889 non-null    float64\n",
      " 3   SibSp       889 non-null    int64  \n",
      " 4   Parch       889 non-null    int64  \n",
      " 5   Fare        889 non-null    float64\n",
      " 6   Sex_female  889 non-null    uint8  \n",
      " 7   Sex_male    889 non-null    uint8  \n",
      " 8   Embarked_C  889 non-null    uint8  \n",
      " 9   Embarked_Q  889 non-null    uint8  \n",
      " 10  Embarked_S  889 non-null    uint8  \n",
      "dtypes: float64(2), int64(4), uint8(5)\n",
      "memory usage: 53.0 KB\n"
     ]
    }
   ],
   "source": [
    "df_train_dummied.info()"
   ]
  },
  {
   "cell_type": "code",
   "execution_count": 17,
   "id": "bf850d28",
   "metadata": {},
   "outputs": [
    {
     "data": {
      "text/plain": [
       "<AxesSubplot:>"
      ]
     },
     "execution_count": 17,
     "metadata": {},
     "output_type": "execute_result"
    },
    {
     "data": {
      "image/png": "[encoded data removed]",
      "text/plain": [
       "<Figure size 432x288 with 2 Axes>"
      ]
     },
     "metadata": {},
     "output_type": "display_data"
    }
   ],
   "source": [
    "plt.figure(figsize=(6,4))\n",
    "sns.heatmap(df_train_dummied.corr())"
   ]
  },
  {
   "cell_type": "code",
   "execution_count": 18,
   "id": "5e7d5462",
   "metadata": {},
   "outputs": [],
   "source": [
    "X = df_train_dummied.drop([\"Fare\",\"Survived\"],axis=1)\n",
    "y= df_train_dummied.Survived"
   ]
  },
  {
   "cell_type": "code",
   "execution_count": 19,
   "id": "6def8052",
   "metadata": {},
   "outputs": [
    {
     "data": {
      "text/html": [
       "<div>\n",
       "<style scoped>\n",
       "    .dataframe tbody tr th:only-of-type {\n",
       "        vertical-align: middle;\n",
       "    }\n",
       "\n",
       "    .dataframe tbody tr th {\n",
       "        vertical-align: top;\n",
       "    }\n",
       "\n",
       "    .dataframe thead th {\n",
       "        text-align: right;\n",
       "    }\n",
       "</style>\n",
       "<table border=\"1\" class=\"dataframe\">\n",
       "  <thead>\n",
       "    <tr style=\"text-align: right;\">\n",
       "      <th></th>\n",
       "      <th>Pclass</th>\n",
       "      <th>Age</th>\n",
       "      <th>SibSp</th>\n",
       "      <th>Parch</th>\n",
       "      <th>Sex_female</th>\n",
       "      <th>Sex_male</th>\n",
       "      <th>Embarked_C</th>\n",
       "      <th>Embarked_Q</th>\n",
       "      <th>Embarked_S</th>\n",
       "    </tr>\n",
       "  </thead>\n",
       "  <tbody>\n",
       "    <tr>\n",
       "      <th>0</th>\n",
       "      <td>3</td>\n",
       "      <td>22.0</td>\n",
       "      <td>1</td>\n",
       "      <td>0</td>\n",
       "      <td>0</td>\n",
       "      <td>1</td>\n",
       "      <td>0</td>\n",
       "      <td>0</td>\n",
       "      <td>1</td>\n",
       "    </tr>\n",
       "    <tr>\n",
       "      <th>1</th>\n",
       "      <td>1</td>\n",
       "      <td>38.0</td>\n",
       "      <td>1</td>\n",
       "      <td>0</td>\n",
       "      <td>1</td>\n",
       "      <td>0</td>\n",
       "      <td>1</td>\n",
       "      <td>0</td>\n",
       "      <td>0</td>\n",
       "    </tr>\n",
       "    <tr>\n",
       "      <th>2</th>\n",
       "      <td>3</td>\n",
       "      <td>26.0</td>\n",
       "      <td>0</td>\n",
       "      <td>0</td>\n",
       "      <td>1</td>\n",
       "      <td>0</td>\n",
       "      <td>0</td>\n",
       "      <td>0</td>\n",
       "      <td>1</td>\n",
       "    </tr>\n",
       "    <tr>\n",
       "      <th>3</th>\n",
       "      <td>1</td>\n",
       "      <td>35.0</td>\n",
       "      <td>1</td>\n",
       "      <td>0</td>\n",
       "      <td>1</td>\n",
       "      <td>0</td>\n",
       "      <td>0</td>\n",
       "      <td>0</td>\n",
       "      <td>1</td>\n",
       "    </tr>\n",
       "    <tr>\n",
       "      <th>4</th>\n",
       "      <td>3</td>\n",
       "      <td>35.0</td>\n",
       "      <td>0</td>\n",
       "      <td>0</td>\n",
       "      <td>0</td>\n",
       "      <td>1</td>\n",
       "      <td>0</td>\n",
       "      <td>0</td>\n",
       "      <td>1</td>\n",
       "    </tr>\n",
       "  </tbody>\n",
       "</table>\n",
       "</div>"
      ],
      "text/plain": [
       "   Pclass   Age  SibSp  Parch  Sex_female  Sex_male  Embarked_C  Embarked_Q  \\\n",
       "0       3  22.0      1      0           0         1           0           0   \n",
       "1       1  38.0      1      0           1         0           1           0   \n",
       "2       3  26.0      0      0           1         0           0           0   \n",
       "3       1  35.0      1      0           1         0           0           0   \n",
       "4       3  35.0      0      0           0         1           0           0   \n",
       "\n",
       "   Embarked_S  \n",
       "0           1  \n",
       "1           0  \n",
       "2           1  \n",
       "3           1  \n",
       "4           1  "
      ]
     },
     "execution_count": 19,
     "metadata": {},
     "output_type": "execute_result"
    }
   ],
   "source": [
    "X.head()"
   ]
  },
  {
   "cell_type": "code",
   "execution_count": 20,
   "id": "4df9d4d2",
   "metadata": {},
   "outputs": [],
   "source": [
    "X_train,X_test,y_train,y_test = train_test_split(X,y,test_size=0.3,random_state = 1)"
   ]
  },
  {
   "cell_type": "code",
   "execution_count": 21,
   "id": "5fccdeaa",
   "metadata": {
    "scrolled": true
   },
   "outputs": [
    {
     "name": "stdout",
     "output_type": "stream",
     "text": [
      "(622, 9)\n",
      "(267, 9)\n",
      "(622,)\n",
      "(267,)\n"
     ]
    }
   ],
   "source": [
    "print(X_train.shape)\n",
    "print(X_test.shape)\n",
    "print(y_train.shape)\n",
    "print(y_test.shape)"
   ]
  },
  {
   "cell_type": "code",
   "execution_count": 22,
   "id": "ef43f553",
   "metadata": {},
   "outputs": [],
   "source": [
    "LogR = LogisticRegression() "
   ]
  },
  {
   "cell_type": "code",
   "execution_count": 23,
   "id": "41f3a313",
   "metadata": {},
   "outputs": [
    {
     "data": {
      "text/plain": [
       "LogisticRegression()"
      ]
     },
     "execution_count": 23,
     "metadata": {},
     "output_type": "execute_result"
    }
   ],
   "source": [
    "LogR.fit(X_train,y_train)"
   ]
  },
  {
   "cell_type": "code",
   "execution_count": 24,
   "id": "6d855ab6",
   "metadata": {
    "scrolled": true
   },
   "outputs": [],
   "source": [
    "y_pred = LogR.predict(X_test)"
   ]
  },
  {
   "cell_type": "code",
   "execution_count": 25,
   "id": "a371f80f",
   "metadata": {},
   "outputs": [
    {
     "data": {
      "image/png": "[encoded data removed]",
      "text/plain": [
       "<IPython.core.display.Image object>"
      ]
     },
     "metadata": {},
     "output_type": "display_data"
    }
   ],
   "source": [
    "from IPython.core.display import Image, display\n",
    "display(Image(filename='Confusion_Matrix.png'))"
   ]
  },
  {
   "cell_type": "code",
   "execution_count": 26,
   "id": "f1685448",
   "metadata": {},
   "outputs": [
    {
     "name": "stdout",
     "output_type": "stream",
     "text": [
      "[[143  23]\n",
      " [ 22  79]]\n",
      "True Negative : 143\n",
      "False Positive : 23\n",
      "False Negative : 22\n",
      "True Positive : 79\n"
     ]
    }
   ],
   "source": [
    "# Compute the confusion matrix to evaluate the accuracy of classification\n",
    "print(metrics.confusion_matrix(y_test,y_pred))\n",
    "\n",
    "TN,FP,FN,TP = confusion_matrix(y_test,y_pred).ravel()\n",
    "\n",
    "print(\"True Negative :\",TN) \n",
    "print(\"False Positive :\",FP) \n",
    "print(\"False Negative :\",FN) \n",
    "print(\"True Positive :\",TP) \n",
    "# and N = 267"
   ]
  },
  {
   "cell_type": "markdown",
   "id": "65315af0",
   "metadata": {},
   "source": [
    "- Interpret the results, out of 166 actual instances have not survived, The classifier predicted correctly 143 of them. Out of 101 actual instances of survived, The classifier predicted 79 correctly."
   ]
  },
  {
   "cell_type": "code",
   "execution_count": 27,
   "id": "9cf9232c",
   "metadata": {},
   "outputs": [
    {
     "data": {
      "text/plain": [
       "0.8314606741573034"
      ]
     },
     "execution_count": 27,
     "metadata": {},
     "output_type": "execute_result"
    }
   ],
   "source": [
    "metrics.accuracy_score(y_test,y_pred)"
   ]
  },
  {
   "cell_type": "code",
   "execution_count": 28,
   "id": "6928ffe7",
   "metadata": {},
   "outputs": [
    {
     "name": "stdout",
     "output_type": "stream",
     "text": [
      "              precision    recall  f1-score   support\n",
      "\n",
      "           0       0.87      0.86      0.86       166\n",
      "           1       0.77      0.78      0.78       101\n",
      "\n",
      "    accuracy                           0.83       267\n",
      "   macro avg       0.82      0.82      0.82       267\n",
      "weighted avg       0.83      0.83      0.83       267\n",
      "\n"
     ]
    }
   ],
   "source": [
    "print(classification_report(y_test,y_pred))"
   ]
  },
  {
   "cell_type": "code",
   "execution_count": 29,
   "id": "bb029b71",
   "metadata": {},
   "outputs": [
    {
     "name": "stdout",
     "output_type": "stream",
     "text": [
      "Coefficient : [[-1.04314192 -0.03993457 -0.24324446 -0.04008103  1.19387943 -1.19533661\n",
      "   0.34944138 -0.03635018 -0.31454837]]\n",
      "Intercept : [3.66253934]\n"
     ]
    }
   ],
   "source": [
    "# Computed the Coefficent and the Intercept of the Predicted line \n",
    "print(\"Coefficient :\",LogR.coef_)\n",
    "print(\"Intercept :\",LogR.intercept_)"
   ]
  },
  {
   "cell_type": "code",
   "execution_count": 30,
   "id": "65d40678",
   "metadata": {
    "scrolled": true
   },
   "outputs": [
    {
     "data": {
      "text/plain": [
       "Index(['Pclass', 'Age', 'SibSp', 'Parch', 'Sex_female', 'Sex_male',\n",
       "       'Embarked_C', 'Embarked_Q', 'Embarked_S'],\n",
       "      dtype='object')"
      ]
     },
     "execution_count": 30,
     "metadata": {},
     "output_type": "execute_result"
    }
   ],
   "source": [
    "X.columns"
   ]
  },
  {
   "cell_type": "code",
   "execution_count": 31,
   "id": "ea47be11",
   "metadata": {},
   "outputs": [
    {
     "data": {
      "text/plain": [
       "array([[-1.32641001, -0.30846786],\n",
       "       [-0.92429923, -0.50552204],\n",
       "       [-0.05389597, -2.94752657],\n",
       "       [-1.35131049, -0.29962072],\n",
       "       [-0.05721253, -2.88945223],\n",
       "       [-2.00275683, -0.14498265],\n",
       "       [-1.09892915, -0.40530672],\n",
       "       [-0.65395873, -0.73393423],\n",
       "       [-0.24641657, -1.52141133],\n",
       "       [-0.89761716, -0.52347126],\n",
       "       [-0.30084893, -1.34780309],\n",
       "       [-1.55481083, -0.23727967],\n",
       "       [-0.28940661, -1.38113852],\n",
       "       [-1.92667172, -0.15739338],\n",
       "       [-0.14531262, -2.00064449],\n",
       "       [-0.99530303, -0.46141886],\n",
       "       [-0.11231079, -2.24211522],\n",
       "       [-1.21161949, -0.35341561],\n",
       "       [-1.735828  , -0.19389329],\n",
       "       [-0.92027085, -0.50818099],\n",
       "       [-0.0997615 , -2.35443904],\n",
       "       [-0.5927702 , -0.80473552],\n",
       "       [-0.14547583, -1.99960158],\n",
       "       [-0.06426497, -2.77670097],\n",
       "       [-0.661907  , -0.72539487],\n",
       "       [-0.66111023, -0.72624456],\n",
       "       [-3.24407434, -0.03978571],\n",
       "       [-0.1400039 , -2.03527034],\n",
       "       [-0.10725438, -2.28569984],\n",
       "       [-1.12482515, -0.39261192],\n",
       "       [-0.9457026 , -0.49168757],\n",
       "       [-0.89859294, -0.52280059],\n",
       "       [-1.86510616, -0.16827637],\n",
       "       [-0.88152127, -0.53469558],\n",
       "       [-0.5259533 , -0.89401983],\n",
       "       [-1.79803234, -0.18107169],\n",
       "       [-0.4196283 , -1.07087386],\n",
       "       [-0.13487632, -2.07007733],\n",
       "       [-1.41292335, -0.27896102],\n",
       "       [-0.55297698, -0.85621872],\n",
       "       [-0.82821785, -0.57416857],\n",
       "       [-0.09255299, -2.42589354],\n",
       "       [-1.15391259, -0.37892102],\n",
       "       [-0.13487632, -2.07007733],\n",
       "       [-0.22714797, -1.59357868],\n",
       "       [-1.4461738 , -0.26849338],\n",
       "       [-1.7688387 , -0.18696943],\n",
       "       [-0.2030469 , -1.69412449],\n",
       "       [-2.80254471, -0.062573  ],\n",
       "       [-0.07932442, -2.57360935],\n",
       "       [-0.13487632, -2.07007733],\n",
       "       [-0.8520154 , -0.55609218],\n",
       "       [-0.12327018, -2.15437879],\n",
       "       [-2.39617395, -0.09548248],\n",
       "       [-0.28940661, -1.38113852],\n",
       "       [-2.65312126, -0.07303428],\n",
       "       [-0.25160186, -1.50307204],\n",
       "       [-0.04964807, -3.02751716],\n",
       "       [-0.35522939, -1.20735391],\n",
       "       [-0.06472847, -2.76974388],\n",
       "       [-0.20393865, -1.69017305],\n",
       "       [-0.15080786, -1.96620516],\n",
       "       [-0.5259533 , -0.89401983],\n",
       "       [-0.13487632, -2.07007733],\n",
       "       [-0.8520154 , -0.55609218],\n",
       "       [-1.44328248, -0.26938558],\n",
       "       [-0.13487632, -2.07007733],\n",
       "       [-0.09244643, -2.4269931 ],\n",
       "       [-0.16860957, -1.86328997],\n",
       "       [-2.91533799, -0.05570904],\n",
       "       [-0.14605329, -1.99592169],\n",
       "       [-2.87760866, -0.05791428],\n",
       "       [-0.42518073, -1.06031019],\n",
       "       [-0.15080786, -1.96620516],\n",
       "       [-1.15620254, -0.37786779],\n",
       "       [-2.00275683, -0.14498265],\n",
       "       [-0.17454953, -1.83155234],\n",
       "       [-0.07904752, -2.57696952],\n",
       "       [-0.19168363, -1.74622037],\n",
       "       [-0.18208114, -1.79296242],\n",
       "       [-0.17454953, -1.83155234],\n",
       "       [-0.14531262, -2.00064449],\n",
       "       [-3.24407434, -0.03978571],\n",
       "       [-2.81896337, -0.06152202],\n",
       "       [-0.26992822, -1.44152927],\n",
       "       [-0.47867377, -0.966544  ],\n",
       "       [-0.82353797, -0.57781367],\n",
       "       [-0.85193142, -0.55615465],\n",
       "       [-0.13487632, -2.07007733],\n",
       "       [-0.99530303, -0.46141886],\n",
       "       [-0.10762488, -2.28243328],\n",
       "       [-1.12482515, -0.39261192],\n",
       "       [-0.06776338, -2.72542365],\n",
       "       [-0.24724412, -1.51845537],\n",
       "       [-1.40087388, -0.28286909],\n",
       "       [-0.17495837, -1.82941128],\n",
       "       [-1.47311239, -0.26034059],\n",
       "       [-1.29184449, -0.32125749],\n",
       "       [-1.40087388, -0.28286909],\n",
       "       [-1.53903192, -0.2415478 ],\n",
       "       [-0.16237992, -1.89790808],\n",
       "       [-1.07238349, -0.41884208],\n",
       "       [-0.50197426, -0.92971643],\n",
       "       [-0.15649511, -1.93195784],\n",
       "       [-0.15649511, -1.93195784],\n",
       "       [-0.09837553, -2.36774777],\n",
       "       [-1.99302322, -0.14650987],\n",
       "       [-0.16237992, -1.89790808],\n",
       "       [-0.26529323, -1.45663535],\n",
       "       [-0.2030469 , -1.69412449],\n",
       "       [-0.44772451, -1.01910094],\n",
       "       [-0.28940661, -1.38113852],\n",
       "       [-0.24724412, -1.51845537],\n",
       "       [-1.6829873 , -0.20557141],\n",
       "       [-1.02134039, -0.446462  ],\n",
       "       [-2.4552663 , -0.08975003],\n",
       "       [-0.0877286 , -2.477051  ],\n",
       "       [-0.89761716, -0.52347126],\n",
       "       [-2.75112519, -0.06598594],\n",
       "       [-0.23437882, -1.56571814],\n",
       "       [-0.12992459, -2.10506015],\n",
       "       [-1.58066073, -0.23046913],\n",
       "       [-1.12482515, -0.39261192],\n",
       "       [-0.68882883, -0.69748426],\n",
       "       [-1.57136976, -0.23289141],\n",
       "       [-0.11390402, -2.22881057],\n",
       "       [-0.81519411, -0.58438859],\n",
       "       [-0.09435971, -2.40745003],\n",
       "       [-0.12514348, -2.14021362],\n",
       "       [-0.54766219, -0.86346157],\n",
       "       [-0.80407525, -0.59330468],\n",
       "       [-0.50197426, -0.92971643],\n",
       "       [-0.12942881, -2.10864081],\n",
       "       [-0.5259533 , -0.89401983],\n",
       "       [-0.99530303, -0.46141886],\n",
       "       [-2.6498769 , -0.07328053],\n",
       "       [-0.15080786, -1.96620516],\n",
       "       [-0.07633456, -2.61055406],\n",
       "       [-0.13487632, -2.07007733],\n",
       "       [-0.11607288, -2.21101215],\n",
       "       [-0.15148726, -1.96204138],\n",
       "       [-1.15371141, -0.37901372],\n",
       "       [-0.07932442, -2.57360935],\n",
       "       [-0.94347977, -0.4931018 ],\n",
       "       [-0.5259533 , -0.89401983],\n",
       "       [-0.36777789, -1.1785355 ],\n",
       "       [-1.71772351, -0.19780999],\n",
       "       [-2.23863421, -0.11272535],\n",
       "       [-2.5423767 , -0.08194696],\n",
       "       [-0.07309104, -2.6523724 ],\n",
       "       [-0.15418758, -1.94568879],\n",
       "       [-0.06542514, -2.75938291],\n",
       "       [-1.9513461 , -0.15324755],\n",
       "       [-0.16237992, -1.89790808],\n",
       "       [-0.97133799, -0.47574193],\n",
       "       [-0.99530303, -0.46141886],\n",
       "       [-0.23539269, -1.56188882],\n",
       "       [-0.98825473, -0.46557467],\n",
       "       [-0.11607288, -2.21101215],\n",
       "       [-0.13487632, -2.07007733],\n",
       "       [-0.68882883, -0.69748426],\n",
       "       [-0.26062407, -1.47215969],\n",
       "       [-0.54766219, -0.86346157],\n",
       "       [-0.13935459, -2.03960186],\n",
       "       [-0.13548871, -2.06584653],\n",
       "       [-0.18127654, -1.797001  ],\n",
       "       [-1.9898826 , -0.14700631],\n",
       "       [-2.82608051, -0.06107212],\n",
       "       [-0.24998833, -1.50873264],\n",
       "       [-1.44317061, -0.26942017],\n",
       "       [-0.16237992, -1.89790808],\n",
       "       [-0.1061206 , -2.29577017],\n",
       "       [-0.17454953, -1.83155234],\n",
       "       [-0.13487632, -2.07007733],\n",
       "       [-0.38620997, -1.13827185],\n",
       "       [-1.23756033, -0.3426186 ],\n",
       "       [-0.14531262, -2.00064449],\n",
       "       [-0.34345569, -1.23551477],\n",
       "       [-0.13487632, -2.07007733],\n",
       "       [-0.16237992, -1.89790808],\n",
       "       [-0.17454953, -1.83155234],\n",
       "       [-0.13487632, -2.07007733],\n",
       "       [-0.42944565, -1.05231038],\n",
       "       [-0.0696811 , -2.69846444],\n",
       "       [-1.12482515, -0.39261192],\n",
       "       [-0.18864169, -1.76074441],\n",
       "       [-0.9672248 , -0.47825604],\n",
       "       [-0.54248007, -0.87061204],\n",
       "       [-1.47777835, -0.25895725],\n",
       "       [-0.0997615 , -2.35443904],\n",
       "       [-0.27981464, -1.410275  ],\n",
       "       [-0.3323517 , -1.26313922],\n",
       "       [-0.14531262, -2.00064449],\n",
       "       [-0.26906901, -1.44430712],\n",
       "       [-0.06518595, -2.76292724],\n",
       "       [-0.29062587, -1.3775146 ],\n",
       "       [-0.1064874 , -2.2924999 ],\n",
       "       [-1.23810402, -0.34239652],\n",
       "       [-0.5259533 , -0.89401983],\n",
       "       [-2.72743236, -0.0676227 ],\n",
       "       [-0.35410229, -1.21000152],\n",
       "       [-1.69908948, -0.20193253],\n",
       "       [-0.25049409, -1.50695391],\n",
       "       [-0.60349763, -0.79163239],\n",
       "       [-3.04951968, -0.04854096],\n",
       "       [-0.11607288, -2.21101215],\n",
       "       [-0.1323788 , -2.08754709],\n",
       "       [-1.12982361, -0.39021731],\n",
       "       [-0.21054884, -1.66146564],\n",
       "       [-2.43253713, -0.09191109],\n",
       "       [-0.17454953, -1.83155234],\n",
       "       [-0.29959287, -1.35139022],\n",
       "       [-0.24724412, -1.51845537],\n",
       "       [-0.26529323, -1.45663535],\n",
       "       [-1.17900486, -0.36756933],\n",
       "       [-1.63516207, -0.21681459],\n",
       "       [-0.27952039, -1.41118687],\n",
       "       [-1.64753873, -0.21384093],\n",
       "       [-0.08898362, -2.46346486],\n",
       "       [-0.36770828, -1.17869211],\n",
       "       [-0.13935459, -2.03960186],\n",
       "       [-0.69673748, -0.68956972],\n",
       "       [-0.40077496, -1.10805909],\n",
       "       [-1.50780227, -0.25025272],\n",
       "       [-1.41303416, -0.27892537],\n",
       "       [-0.14531262, -2.00064449],\n",
       "       [-0.55570801, -0.8525321 ],\n",
       "       [-0.17454953, -1.83155234],\n",
       "       [-0.23863184, -1.54977766],\n",
       "       [-0.28936981, -1.38124818],\n",
       "       [-0.9672248 , -0.47825604],\n",
       "       [-1.22327543, -0.3485151 ],\n",
       "       [-0.76058225, -0.62997373],\n",
       "       [-0.17454953, -1.83155234],\n",
       "       [-0.10762488, -2.28243328],\n",
       "       [-0.11567494, -2.21425127],\n",
       "       [-0.13487632, -2.07007733],\n",
       "       [-0.22466816, -1.60336262],\n",
       "       [-1.04412678, -0.43386313],\n",
       "       [-0.12992459, -2.10506015],\n",
       "       [-1.21161949, -0.35341561],\n",
       "       [-0.17454953, -1.83155234],\n",
       "       [-0.16237992, -1.89790808],\n",
       "       [-0.39957547, -1.11049666],\n",
       "       [-0.65928184, -0.7281997 ],\n",
       "       [-2.31935585, -0.10351434],\n",
       "       [-2.01907555, -0.14246046],\n",
       "       [-0.22567417, -1.59937899],\n",
       "       [-0.36882875, -1.17617551],\n",
       "       [-0.13441814, -2.07325621],\n",
       "       [-1.41934586, -0.27690328],\n",
       "       [-1.12482515, -0.39261192],\n",
       "       [-0.92146885, -0.50738838],\n",
       "       [-0.06054323, -2.83451659],\n",
       "       [-2.21642708, -0.11540844],\n",
       "       [-1.48964728, -0.25547586],\n",
       "       [-0.12514348, -2.14021362],\n",
       "       [-0.0997615 , -2.35443904],\n",
       "       [-3.24379285, -0.03979714],\n",
       "       [-0.24724412, -1.51845537],\n",
       "       [-1.60229143, -0.22493818],\n",
       "       [-0.13470687, -2.07125165],\n",
       "       [-0.41957811, -1.07097012],\n",
       "       [-0.13487632, -2.07007733],\n",
       "       [-1.22327543, -0.3485151 ],\n",
       "       [-0.17454953, -1.83155234],\n",
       "       [-0.09210002, -2.43057667]])"
      ]
     },
     "execution_count": 31,
     "metadata": {},
     "output_type": "execute_result"
    }
   ],
   "source": [
    "'''First Column is the Probability that the entry has not survived label, and the\n",
    "Second Column is the Probability that the entry has Survived the label'''\n",
    "LogR.predict_log_proba(X_test)"
   ]
  },
  {
   "cell_type": "markdown",
   "id": "34b36a11",
   "metadata": {},
   "source": [
    "# ___Summary Table___\n",
    "\n",
    "### Step-1: Import the Required Liabraries\n",
    "### Step-2: Started with the data exploration, performed missing data check, and learned with feature are important\n",
    "### Step-3: Converted categorical features into numeric ones\n",
    "### Step-4: Finally, we built a classifier to predict survival.\n"
   ]
  }
 ],
 "metadata": {
  "kernelspec": {
   "display_name": "Python 3 (ipykernel)",
   "language": "python",
   "name": "python3"
  },
  "language_info": {
   "codemirror_mode": {
    "name": "ipython",
    "version": 3
   },
   "file_extension": ".py",
   "mimetype": "text/x-python",
   "name": "python",
   "nbconvert_exporter": "python",
   "pygments_lexer": "ipython3",
   "version": "3.9.12"
  }
 },
 "nbformat": 4,
 "nbformat_minor": 5
}
