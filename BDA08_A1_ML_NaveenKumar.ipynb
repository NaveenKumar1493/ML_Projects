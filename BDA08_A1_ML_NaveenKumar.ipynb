{
 "cells": [
  {
   "cell_type": "markdown",
   "id": "b7554c62",
   "metadata": {},
   "source": [
    "# BDA08 - ML Competition Question Assignment (Bank Marketing Data Set)\n",
    "\n",
    "## Author Name = Naveen Kumar\n",
    "\n",
    "### Date = December, 24 2022"
   ]
  },
  {
   "cell_type": "code",
   "execution_count": 1,
   "id": "6fa5eaad",
   "metadata": {},
   "outputs": [],
   "source": [
    "# Import Liabraries\n",
    "import pandas as pd\n",
    "import numpy as np\n",
    "import matplotlib.pyplot as plt"
   ]
  },
  {
   "cell_type": "code",
   "execution_count": 2,
   "id": "764d4812",
   "metadata": {},
   "outputs": [
    {
     "data": {
      "text/html": [
       "<div>\n",
       "<style scoped>\n",
       "    .dataframe tbody tr th:only-of-type {\n",
       "        vertical-align: middle;\n",
       "    }\n",
       "\n",
       "    .dataframe tbody tr th {\n",
       "        vertical-align: top;\n",
       "    }\n",
       "\n",
       "    .dataframe thead th {\n",
       "        text-align: right;\n",
       "    }\n",
       "</style>\n",
       "<table border=\"1\" class=\"dataframe\">\n",
       "  <thead>\n",
       "    <tr style=\"text-align: right;\">\n",
       "      <th></th>\n",
       "      <th>age</th>\n",
       "      <th>job</th>\n",
       "      <th>marital</th>\n",
       "      <th>education</th>\n",
       "      <th>default</th>\n",
       "      <th>balance</th>\n",
       "      <th>housing</th>\n",
       "      <th>loan</th>\n",
       "      <th>contact</th>\n",
       "      <th>day</th>\n",
       "      <th>month</th>\n",
       "      <th>duration</th>\n",
       "      <th>campaign</th>\n",
       "      <th>pdays</th>\n",
       "      <th>previous</th>\n",
       "      <th>poutcome</th>\n",
       "      <th>y</th>\n",
       "    </tr>\n",
       "  </thead>\n",
       "  <tbody>\n",
       "    <tr>\n",
       "      <th>0</th>\n",
       "      <td>30</td>\n",
       "      <td>unemployed</td>\n",
       "      <td>married</td>\n",
       "      <td>primary</td>\n",
       "      <td>no</td>\n",
       "      <td>1787</td>\n",
       "      <td>no</td>\n",
       "      <td>no</td>\n",
       "      <td>cellular</td>\n",
       "      <td>19</td>\n",
       "      <td>oct</td>\n",
       "      <td>79</td>\n",
       "      <td>1</td>\n",
       "      <td>-1</td>\n",
       "      <td>0</td>\n",
       "      <td>unknown</td>\n",
       "      <td>no</td>\n",
       "    </tr>\n",
       "    <tr>\n",
       "      <th>1</th>\n",
       "      <td>33</td>\n",
       "      <td>services</td>\n",
       "      <td>married</td>\n",
       "      <td>secondary</td>\n",
       "      <td>no</td>\n",
       "      <td>4789</td>\n",
       "      <td>yes</td>\n",
       "      <td>yes</td>\n",
       "      <td>cellular</td>\n",
       "      <td>11</td>\n",
       "      <td>may</td>\n",
       "      <td>220</td>\n",
       "      <td>1</td>\n",
       "      <td>339</td>\n",
       "      <td>4</td>\n",
       "      <td>failure</td>\n",
       "      <td>no</td>\n",
       "    </tr>\n",
       "    <tr>\n",
       "      <th>2</th>\n",
       "      <td>35</td>\n",
       "      <td>management</td>\n",
       "      <td>single</td>\n",
       "      <td>tertiary</td>\n",
       "      <td>no</td>\n",
       "      <td>1350</td>\n",
       "      <td>yes</td>\n",
       "      <td>no</td>\n",
       "      <td>cellular</td>\n",
       "      <td>16</td>\n",
       "      <td>apr</td>\n",
       "      <td>185</td>\n",
       "      <td>1</td>\n",
       "      <td>330</td>\n",
       "      <td>1</td>\n",
       "      <td>failure</td>\n",
       "      <td>no</td>\n",
       "    </tr>\n",
       "    <tr>\n",
       "      <th>3</th>\n",
       "      <td>30</td>\n",
       "      <td>management</td>\n",
       "      <td>married</td>\n",
       "      <td>tertiary</td>\n",
       "      <td>no</td>\n",
       "      <td>1476</td>\n",
       "      <td>yes</td>\n",
       "      <td>yes</td>\n",
       "      <td>unknown</td>\n",
       "      <td>3</td>\n",
       "      <td>jun</td>\n",
       "      <td>199</td>\n",
       "      <td>4</td>\n",
       "      <td>-1</td>\n",
       "      <td>0</td>\n",
       "      <td>unknown</td>\n",
       "      <td>no</td>\n",
       "    </tr>\n",
       "    <tr>\n",
       "      <th>4</th>\n",
       "      <td>59</td>\n",
       "      <td>blue-collar</td>\n",
       "      <td>married</td>\n",
       "      <td>secondary</td>\n",
       "      <td>no</td>\n",
       "      <td>0</td>\n",
       "      <td>yes</td>\n",
       "      <td>no</td>\n",
       "      <td>unknown</td>\n",
       "      <td>5</td>\n",
       "      <td>may</td>\n",
       "      <td>226</td>\n",
       "      <td>1</td>\n",
       "      <td>-1</td>\n",
       "      <td>0</td>\n",
       "      <td>unknown</td>\n",
       "      <td>no</td>\n",
       "    </tr>\n",
       "  </tbody>\n",
       "</table>\n",
       "</div>"
      ],
      "text/plain": [
       "   age          job  marital  education default  balance housing loan  \\\n",
       "0   30   unemployed  married    primary      no     1787      no   no   \n",
       "1   33     services  married  secondary      no     4789     yes  yes   \n",
       "2   35   management   single   tertiary      no     1350     yes   no   \n",
       "3   30   management  married   tertiary      no     1476     yes  yes   \n",
       "4   59  blue-collar  married  secondary      no        0     yes   no   \n",
       "\n",
       "    contact  day month  duration  campaign  pdays  previous poutcome   y  \n",
       "0  cellular   19   oct        79         1     -1         0  unknown  no  \n",
       "1  cellular   11   may       220         1    339         4  failure  no  \n",
       "2  cellular   16   apr       185         1    330         1  failure  no  \n",
       "3   unknown    3   jun       199         4     -1         0  unknown  no  \n",
       "4   unknown    5   may       226         1     -1         0  unknown  no  "
      ]
     },
     "execution_count": 2,
     "metadata": {},
     "output_type": "execute_result"
    }
   ],
   "source": [
    "# Read Datsset\n",
    "df = pd.read_csv(r\"C:\\Users\\navee\\OneDrive\\Desktop\\IBA_BDA\\ML_IBA_BDA\\Assignment_ML\\bank-market.csv\", sep = ';')\n",
    "df.head()"
   ]
  },
  {
   "cell_type": "code",
   "execution_count": 3,
   "id": "e80e7053",
   "metadata": {},
   "outputs": [
    {
     "name": "stdout",
     "output_type": "stream",
     "text": [
      "<class 'pandas.core.frame.DataFrame'>\n",
      "RangeIndex: 4521 entries, 0 to 4520\n",
      "Data columns (total 17 columns):\n",
      " #   Column     Non-Null Count  Dtype \n",
      "---  ------     --------------  ----- \n",
      " 0   age        4521 non-null   int64 \n",
      " 1   job        4521 non-null   object\n",
      " 2   marital    4521 non-null   object\n",
      " 3   education  4521 non-null   object\n",
      " 4   default    4521 non-null   object\n",
      " 5   balance    4521 non-null   int64 \n",
      " 6   housing    4521 non-null   object\n",
      " 7   loan       4521 non-null   object\n",
      " 8   contact    4521 non-null   object\n",
      " 9   day        4521 non-null   int64 \n",
      " 10  month      4521 non-null   object\n",
      " 11  duration   4521 non-null   int64 \n",
      " 12  campaign   4521 non-null   int64 \n",
      " 13  pdays      4521 non-null   int64 \n",
      " 14  previous   4521 non-null   int64 \n",
      " 15  poutcome   4521 non-null   object\n",
      " 16  y          4521 non-null   object\n",
      "dtypes: int64(7), object(10)\n",
      "memory usage: 600.6+ KB\n"
     ]
    }
   ],
   "source": [
    "df.info() # information about data"
   ]
  },
  {
   "cell_type": "code",
   "execution_count": 4,
   "id": "71893a32",
   "metadata": {},
   "outputs": [
    {
     "data": {
      "text/plain": [
       "age          0\n",
       "job          0\n",
       "marital      0\n",
       "education    0\n",
       "default      0\n",
       "balance      0\n",
       "housing      0\n",
       "loan         0\n",
       "contact      0\n",
       "day          0\n",
       "month        0\n",
       "duration     0\n",
       "campaign     0\n",
       "pdays        0\n",
       "previous     0\n",
       "poutcome     0\n",
       "y            0\n",
       "dtype: int64"
      ]
     },
     "execution_count": 4,
     "metadata": {},
     "output_type": "execute_result"
    }
   ],
   "source": [
    "df.isna().sum() # Chexk the missing values in an entrire column in a datqset"
   ]
  },
  {
   "cell_type": "code",
   "execution_count": 5,
   "id": "0ba96f4b",
   "metadata": {},
   "outputs": [
    {
     "data": {
      "text/plain": [
       "0"
      ]
     },
     "execution_count": 5,
     "metadata": {},
     "output_type": "execute_result"
    }
   ],
   "source": [
    "df.duplicated().sum()"
   ]
  },
  {
   "cell_type": "code",
   "execution_count": 6,
   "id": "60b855cf",
   "metadata": {},
   "outputs": [
    {
     "data": {
      "text/html": [
       "<div>\n",
       "<style scoped>\n",
       "    .dataframe tbody tr th:only-of-type {\n",
       "        vertical-align: middle;\n",
       "    }\n",
       "\n",
       "    .dataframe tbody tr th {\n",
       "        vertical-align: top;\n",
       "    }\n",
       "\n",
       "    .dataframe thead th {\n",
       "        text-align: right;\n",
       "    }\n",
       "</style>\n",
       "<table border=\"1\" class=\"dataframe\">\n",
       "  <thead>\n",
       "    <tr style=\"text-align: right;\">\n",
       "      <th></th>\n",
       "      <th>age</th>\n",
       "      <th>job</th>\n",
       "      <th>marital</th>\n",
       "      <th>education</th>\n",
       "      <th>credit_in_default</th>\n",
       "      <th>balance</th>\n",
       "      <th>housing_loan</th>\n",
       "      <th>personal_loan</th>\n",
       "      <th>contact_type</th>\n",
       "      <th>date_of_Month</th>\n",
       "      <th>last_contacted_month</th>\n",
       "      <th>last_contact_duration_seconds</th>\n",
       "      <th>contacted_during_campaign</th>\n",
       "      <th>days_passed_last_contacted</th>\n",
       "      <th>contacted_before_campaign</th>\n",
       "      <th>previous_outcome</th>\n",
       "      <th>client_subcribed</th>\n",
       "    </tr>\n",
       "  </thead>\n",
       "  <tbody>\n",
       "    <tr>\n",
       "      <th>0</th>\n",
       "      <td>30</td>\n",
       "      <td>unemployed</td>\n",
       "      <td>married</td>\n",
       "      <td>primary</td>\n",
       "      <td>no</td>\n",
       "      <td>1787</td>\n",
       "      <td>no</td>\n",
       "      <td>no</td>\n",
       "      <td>cellular</td>\n",
       "      <td>19</td>\n",
       "      <td>oct</td>\n",
       "      <td>79</td>\n",
       "      <td>1</td>\n",
       "      <td>-1</td>\n",
       "      <td>0</td>\n",
       "      <td>unknown</td>\n",
       "      <td>no</td>\n",
       "    </tr>\n",
       "    <tr>\n",
       "      <th>1</th>\n",
       "      <td>33</td>\n",
       "      <td>services</td>\n",
       "      <td>married</td>\n",
       "      <td>secondary</td>\n",
       "      <td>no</td>\n",
       "      <td>4789</td>\n",
       "      <td>yes</td>\n",
       "      <td>yes</td>\n",
       "      <td>cellular</td>\n",
       "      <td>11</td>\n",
       "      <td>may</td>\n",
       "      <td>220</td>\n",
       "      <td>1</td>\n",
       "      <td>339</td>\n",
       "      <td>4</td>\n",
       "      <td>failure</td>\n",
       "      <td>no</td>\n",
       "    </tr>\n",
       "    <tr>\n",
       "      <th>2</th>\n",
       "      <td>35</td>\n",
       "      <td>management</td>\n",
       "      <td>single</td>\n",
       "      <td>tertiary</td>\n",
       "      <td>no</td>\n",
       "      <td>1350</td>\n",
       "      <td>yes</td>\n",
       "      <td>no</td>\n",
       "      <td>cellular</td>\n",
       "      <td>16</td>\n",
       "      <td>apr</td>\n",
       "      <td>185</td>\n",
       "      <td>1</td>\n",
       "      <td>330</td>\n",
       "      <td>1</td>\n",
       "      <td>failure</td>\n",
       "      <td>no</td>\n",
       "    </tr>\n",
       "    <tr>\n",
       "      <th>3</th>\n",
       "      <td>30</td>\n",
       "      <td>management</td>\n",
       "      <td>married</td>\n",
       "      <td>tertiary</td>\n",
       "      <td>no</td>\n",
       "      <td>1476</td>\n",
       "      <td>yes</td>\n",
       "      <td>yes</td>\n",
       "      <td>unknown</td>\n",
       "      <td>3</td>\n",
       "      <td>jun</td>\n",
       "      <td>199</td>\n",
       "      <td>4</td>\n",
       "      <td>-1</td>\n",
       "      <td>0</td>\n",
       "      <td>unknown</td>\n",
       "      <td>no</td>\n",
       "    </tr>\n",
       "    <tr>\n",
       "      <th>4</th>\n",
       "      <td>59</td>\n",
       "      <td>blue-collar</td>\n",
       "      <td>married</td>\n",
       "      <td>secondary</td>\n",
       "      <td>no</td>\n",
       "      <td>0</td>\n",
       "      <td>yes</td>\n",
       "      <td>no</td>\n",
       "      <td>unknown</td>\n",
       "      <td>5</td>\n",
       "      <td>may</td>\n",
       "      <td>226</td>\n",
       "      <td>1</td>\n",
       "      <td>-1</td>\n",
       "      <td>0</td>\n",
       "      <td>unknown</td>\n",
       "      <td>no</td>\n",
       "    </tr>\n",
       "  </tbody>\n",
       "</table>\n",
       "</div>"
      ],
      "text/plain": [
       "   age          job  marital  education credit_in_default  balance  \\\n",
       "0   30   unemployed  married    primary                no     1787   \n",
       "1   33     services  married  secondary                no     4789   \n",
       "2   35   management   single   tertiary                no     1350   \n",
       "3   30   management  married   tertiary                no     1476   \n",
       "4   59  blue-collar  married  secondary                no        0   \n",
       "\n",
       "  housing_loan personal_loan contact_type  date_of_Month last_contacted_month  \\\n",
       "0           no            no     cellular             19                  oct   \n",
       "1          yes           yes     cellular             11                  may   \n",
       "2          yes            no     cellular             16                  apr   \n",
       "3          yes           yes      unknown              3                  jun   \n",
       "4          yes            no      unknown              5                  may   \n",
       "\n",
       "   last_contact_duration_seconds  contacted_during_campaign  \\\n",
       "0                             79                          1   \n",
       "1                            220                          1   \n",
       "2                            185                          1   \n",
       "3                            199                          4   \n",
       "4                            226                          1   \n",
       "\n",
       "   days_passed_last_contacted  contacted_before_campaign previous_outcome  \\\n",
       "0                          -1                          0          unknown   \n",
       "1                         339                          4          failure   \n",
       "2                         330                          1          failure   \n",
       "3                          -1                          0          unknown   \n",
       "4                          -1                          0          unknown   \n",
       "\n",
       "  client_subcribed  \n",
       "0               no  \n",
       "1               no  \n",
       "2               no  \n",
       "3               no  \n",
       "4               no  "
      ]
     },
     "execution_count": 6,
     "metadata": {},
     "output_type": "execute_result"
    }
   ],
   "source": [
    "# Rename of Column \n",
    "df = df.rename(columns={\"default\":\"credit_in_default\",\n",
    "                       \"housing\":\"housing_loan\",\n",
    "                       \"loan\":\"personal_loan\",\n",
    "                       \"campaign\":\"contacted_during_campaign\",\n",
    "                       \"pdays\":\"days_passed_last_contacted\",\n",
    "                       \"previous\":\"contacted_before_campaign\",\n",
    "                       \"poutcome\":\"previous_outcome\",\n",
    "                       \"contact\":\"contact_type\",\n",
    "                       \"month\":\"last_contacted_month\",\n",
    "                       \"duration\":\"last_contact_duration_seconds\",\n",
    "                        \"day\":\"date_of_Month\",\n",
    "                       \"y\":\"client_subcribed\"})\n",
    "df.head()"
   ]
  },
  {
   "cell_type": "code",
   "execution_count": 7,
   "id": "cdeb6392",
   "metadata": {
    "scrolled": false
   },
   "outputs": [
    {
     "data": {
      "text/plain": [
       "management       969\n",
       "blue-collar      946\n",
       "technician       768\n",
       "admin.           478\n",
       "services         417\n",
       "retired          230\n",
       "self-employed    183\n",
       "entrepreneur     168\n",
       "unemployed       128\n",
       "housemaid        112\n",
       "student           84\n",
       "unknown           38\n",
       "Name: job, dtype: int64"
      ]
     },
     "execution_count": 7,
     "metadata": {},
     "output_type": "execute_result"
    }
   ],
   "source": [
    "df.job.value_counts()"
   ]
  },
  {
   "cell_type": "code",
   "execution_count": 8,
   "id": "5d6e6178",
   "metadata": {},
   "outputs": [],
   "source": [
    "# Converted the Job column into mumeric on the basis of its weight \n",
    "encode_job = {'admin.':8,'blue-collar':10,'entrepreneur':4,'housemaid':2,'management':11,'retired':6,'self-employed':5,'services':7,'student':1,'technician':9,'unemployed':3,'unknown':0}\n",
    "df.job = df.job.replace(encode_job)"
   ]
  },
  {
   "cell_type": "code",
   "execution_count": 9,
   "id": "644aacda",
   "metadata": {},
   "outputs": [
    {
     "data": {
      "text/plain": [
       "married     2797\n",
       "single      1196\n",
       "divorced     528\n",
       "Name: marital, dtype: int64"
      ]
     },
     "execution_count": 9,
     "metadata": {},
     "output_type": "execute_result"
    }
   ],
   "source": [
    "df.marital.value_counts()"
   ]
  },
  {
   "cell_type": "code",
   "execution_count": 10,
   "id": "dcfdcc09",
   "metadata": {},
   "outputs": [],
   "source": [
    "'''Converted the Marital Column in to numeric, Ultimately Divorcee are Single, So I Encode Single and Divorcee\n",
    "into 1 and Married into 2'''\n",
    "encode_marital = {\"single\":1,\"divorced\":1,\"married\":2}\n",
    "df.marital = df.marital.replace(encode_marital)"
   ]
  },
  {
   "cell_type": "code",
   "execution_count": 11,
   "id": "7b918977",
   "metadata": {
    "scrolled": true
   },
   "outputs": [
    {
     "data": {
      "text/plain": [
       "secondary    2306\n",
       "tertiary     1350\n",
       "primary       678\n",
       "unknown       187\n",
       "Name: education, dtype: int64"
      ]
     },
     "execution_count": 11,
     "metadata": {},
     "output_type": "execute_result"
    }
   ],
   "source": [
    "df.education.value_counts()"
   ]
  },
  {
   "cell_type": "code",
   "execution_count": 12,
   "id": "98ea74ba",
   "metadata": {},
   "outputs": [],
   "source": [
    "# Converted the Education column into numeric on the basis of the Levels of Education  \n",
    "encode_education = {\"unknown\":0,\"primary\":1,\"secondary\":2,\"tertiary\":3}\n",
    "df.education = df.education.replace(encode_education)"
   ]
  },
  {
   "cell_type": "code",
   "execution_count": 13,
   "id": "91116784",
   "metadata": {
    "scrolled": true
   },
   "outputs": [
    {
     "data": {
      "text/html": [
       "<div>\n",
       "<style scoped>\n",
       "    .dataframe tbody tr th:only-of-type {\n",
       "        vertical-align: middle;\n",
       "    }\n",
       "\n",
       "    .dataframe tbody tr th {\n",
       "        vertical-align: top;\n",
       "    }\n",
       "\n",
       "    .dataframe thead th {\n",
       "        text-align: right;\n",
       "    }\n",
       "</style>\n",
       "<table border=\"1\" class=\"dataframe\">\n",
       "  <thead>\n",
       "    <tr style=\"text-align: right;\">\n",
       "      <th></th>\n",
       "      <th>age</th>\n",
       "      <th>job</th>\n",
       "      <th>marital</th>\n",
       "      <th>education</th>\n",
       "      <th>credit_in_default</th>\n",
       "      <th>balance</th>\n",
       "      <th>housing_loan</th>\n",
       "      <th>personal_loan</th>\n",
       "      <th>contact_type</th>\n",
       "      <th>date_of_Month</th>\n",
       "      <th>last_contacted_month</th>\n",
       "      <th>last_contact_duration_seconds</th>\n",
       "      <th>contacted_during_campaign</th>\n",
       "      <th>days_passed_last_contacted</th>\n",
       "      <th>contacted_before_campaign</th>\n",
       "      <th>previous_outcome</th>\n",
       "      <th>client_subcribed</th>\n",
       "    </tr>\n",
       "  </thead>\n",
       "  <tbody>\n",
       "    <tr>\n",
       "      <th>0</th>\n",
       "      <td>30</td>\n",
       "      <td>3</td>\n",
       "      <td>2</td>\n",
       "      <td>1</td>\n",
       "      <td>no</td>\n",
       "      <td>1787</td>\n",
       "      <td>no</td>\n",
       "      <td>no</td>\n",
       "      <td>cellular</td>\n",
       "      <td>19</td>\n",
       "      <td>oct</td>\n",
       "      <td>79</td>\n",
       "      <td>1</td>\n",
       "      <td>-1</td>\n",
       "      <td>0</td>\n",
       "      <td>unknown</td>\n",
       "      <td>no</td>\n",
       "    </tr>\n",
       "    <tr>\n",
       "      <th>1</th>\n",
       "      <td>33</td>\n",
       "      <td>7</td>\n",
       "      <td>2</td>\n",
       "      <td>2</td>\n",
       "      <td>no</td>\n",
       "      <td>4789</td>\n",
       "      <td>yes</td>\n",
       "      <td>yes</td>\n",
       "      <td>cellular</td>\n",
       "      <td>11</td>\n",
       "      <td>may</td>\n",
       "      <td>220</td>\n",
       "      <td>1</td>\n",
       "      <td>339</td>\n",
       "      <td>4</td>\n",
       "      <td>failure</td>\n",
       "      <td>no</td>\n",
       "    </tr>\n",
       "    <tr>\n",
       "      <th>2</th>\n",
       "      <td>35</td>\n",
       "      <td>11</td>\n",
       "      <td>1</td>\n",
       "      <td>3</td>\n",
       "      <td>no</td>\n",
       "      <td>1350</td>\n",
       "      <td>yes</td>\n",
       "      <td>no</td>\n",
       "      <td>cellular</td>\n",
       "      <td>16</td>\n",
       "      <td>apr</td>\n",
       "      <td>185</td>\n",
       "      <td>1</td>\n",
       "      <td>330</td>\n",
       "      <td>1</td>\n",
       "      <td>failure</td>\n",
       "      <td>no</td>\n",
       "    </tr>\n",
       "    <tr>\n",
       "      <th>3</th>\n",
       "      <td>30</td>\n",
       "      <td>11</td>\n",
       "      <td>2</td>\n",
       "      <td>3</td>\n",
       "      <td>no</td>\n",
       "      <td>1476</td>\n",
       "      <td>yes</td>\n",
       "      <td>yes</td>\n",
       "      <td>unknown</td>\n",
       "      <td>3</td>\n",
       "      <td>jun</td>\n",
       "      <td>199</td>\n",
       "      <td>4</td>\n",
       "      <td>-1</td>\n",
       "      <td>0</td>\n",
       "      <td>unknown</td>\n",
       "      <td>no</td>\n",
       "    </tr>\n",
       "    <tr>\n",
       "      <th>4</th>\n",
       "      <td>59</td>\n",
       "      <td>10</td>\n",
       "      <td>2</td>\n",
       "      <td>2</td>\n",
       "      <td>no</td>\n",
       "      <td>0</td>\n",
       "      <td>yes</td>\n",
       "      <td>no</td>\n",
       "      <td>unknown</td>\n",
       "      <td>5</td>\n",
       "      <td>may</td>\n",
       "      <td>226</td>\n",
       "      <td>1</td>\n",
       "      <td>-1</td>\n",
       "      <td>0</td>\n",
       "      <td>unknown</td>\n",
       "      <td>no</td>\n",
       "    </tr>\n",
       "  </tbody>\n",
       "</table>\n",
       "</div>"
      ],
      "text/plain": [
       "   age  job  marital  education credit_in_default  balance housing_loan  \\\n",
       "0   30    3        2          1                no     1787           no   \n",
       "1   33    7        2          2                no     4789          yes   \n",
       "2   35   11        1          3                no     1350          yes   \n",
       "3   30   11        2          3                no     1476          yes   \n",
       "4   59   10        2          2                no        0          yes   \n",
       "\n",
       "  personal_loan contact_type  date_of_Month last_contacted_month  \\\n",
       "0            no     cellular             19                  oct   \n",
       "1           yes     cellular             11                  may   \n",
       "2            no     cellular             16                  apr   \n",
       "3           yes      unknown              3                  jun   \n",
       "4            no      unknown              5                  may   \n",
       "\n",
       "   last_contact_duration_seconds  contacted_during_campaign  \\\n",
       "0                             79                          1   \n",
       "1                            220                          1   \n",
       "2                            185                          1   \n",
       "3                            199                          4   \n",
       "4                            226                          1   \n",
       "\n",
       "   days_passed_last_contacted  contacted_before_campaign previous_outcome  \\\n",
       "0                          -1                          0          unknown   \n",
       "1                         339                          4          failure   \n",
       "2                         330                          1          failure   \n",
       "3                          -1                          0          unknown   \n",
       "4                          -1                          0          unknown   \n",
       "\n",
       "  client_subcribed  \n",
       "0               no  \n",
       "1               no  \n",
       "2               no  \n",
       "3               no  \n",
       "4               no  "
      ]
     },
     "execution_count": 13,
     "metadata": {},
     "output_type": "execute_result"
    }
   ],
   "source": [
    "df.head()"
   ]
  },
  {
   "cell_type": "code",
   "execution_count": 14,
   "id": "40a77a06",
   "metadata": {
    "scrolled": true
   },
   "outputs": [
    {
     "data": {
      "text/plain": [
       "no     4445\n",
       "yes      76\n",
       "Name: credit_in_default, dtype: int64"
      ]
     },
     "execution_count": 14,
     "metadata": {},
     "output_type": "execute_result"
    }
   ],
   "source": [
    "df.credit_in_default.value_counts()"
   ]
  },
  {
   "cell_type": "code",
   "execution_count": 15,
   "id": "60f478b6",
   "metadata": {},
   "outputs": [],
   "source": [
    "# Converted the Credit Default column into numeric based on 0 to No and Yes to 1  \n",
    "encode_default = {\"no\":0,\"yes\":1}\n",
    "df.credit_in_default = df.credit_in_default.replace(encode_default)"
   ]
  },
  {
   "cell_type": "code",
   "execution_count": 16,
   "id": "8ea5e5f0",
   "metadata": {
    "scrolled": true
   },
   "outputs": [
    {
     "data": {
      "text/plain": [
       "yes    2559\n",
       "no     1962\n",
       "Name: housing_loan, dtype: int64"
      ]
     },
     "execution_count": 16,
     "metadata": {},
     "output_type": "execute_result"
    }
   ],
   "source": [
    "df.housing_loan.value_counts()"
   ]
  },
  {
   "cell_type": "code",
   "execution_count": 17,
   "id": "162c592f",
   "metadata": {},
   "outputs": [],
   "source": [
    "# Converted the Housing loan column into numeric based on 0 to No and Yes to 1  \n",
    "encode_housing = {\"no\":0,\"yes\":1}\n",
    "df.housing_loan = df.housing_loan.replace(encode_housing)"
   ]
  },
  {
   "cell_type": "code",
   "execution_count": 18,
   "id": "33da9f4b",
   "metadata": {},
   "outputs": [
    {
     "data": {
      "text/plain": [
       "no     3830\n",
       "yes     691\n",
       "Name: personal_loan, dtype: int64"
      ]
     },
     "execution_count": 18,
     "metadata": {},
     "output_type": "execute_result"
    }
   ],
   "source": [
    "df.personal_loan.value_counts()"
   ]
  },
  {
   "cell_type": "code",
   "execution_count": 19,
   "id": "2a655369",
   "metadata": {},
   "outputs": [],
   "source": [
    "# Converted the Personal Loan column into numeric based on 0 to No and Yes to 1  \n",
    "encode_personal = {\"no\":0,\"yes\":1}\n",
    "df.personal_loan = df.personal_loan.replace(encode_personal)"
   ]
  },
  {
   "cell_type": "code",
   "execution_count": 20,
   "id": "44c3fee9",
   "metadata": {
    "scrolled": true
   },
   "outputs": [
    {
     "data": {
      "text/plain": [
       "cellular     2896\n",
       "unknown      1324\n",
       "telephone     301\n",
       "Name: contact_type, dtype: int64"
      ]
     },
     "execution_count": 20,
     "metadata": {},
     "output_type": "execute_result"
    }
   ],
   "source": [
    "df.contact_type.value_counts()"
   ]
  },
  {
   "cell_type": "code",
   "execution_count": 21,
   "id": "70d7fcf7",
   "metadata": {},
   "outputs": [],
   "source": [
    "# Converted the Contact Type column into numeric based on 0 to Unknown & Telephone and 1 to Cellular  \n",
    "encode_contact = {\"unknown\":0,\"telephone\":0,\"cellular\":1}\n",
    "df.contact_type = df.contact_type.replace(encode_contact)"
   ]
  },
  {
   "cell_type": "code",
   "execution_count": 22,
   "id": "a2f1a3c7",
   "metadata": {
    "scrolled": true
   },
   "outputs": [
    {
     "data": {
      "text/plain": [
       "may    1398\n",
       "jul     706\n",
       "aug     633\n",
       "jun     531\n",
       "nov     389\n",
       "apr     293\n",
       "feb     222\n",
       "jan     148\n",
       "oct      80\n",
       "sep      52\n",
       "mar      49\n",
       "dec      20\n",
       "Name: last_contacted_month, dtype: int64"
      ]
     },
     "execution_count": 22,
     "metadata": {},
     "output_type": "execute_result"
    }
   ],
   "source": [
    "df.last_contacted_month.value_counts()"
   ]
  },
  {
   "cell_type": "code",
   "execution_count": 23,
   "id": "4d0f97e2",
   "metadata": {},
   "outputs": [],
   "source": [
    "# Converted the Month Name into Month Number  in the Column of Last Month Contacted \n",
    "encode_month = {\"jan\":1,\"feb\":2,\"mar\":3,\"apr\":4,\"may\":5,\"jun\":6,\"jul\":7,\"aug\":8,\"sep\":9,\"oct\":10,\"nov\":11,\"dec\":12}\n",
    "df.last_contacted_month = df.last_contacted_month.replace(encode_month)"
   ]
  },
  {
   "cell_type": "code",
   "execution_count": 24,
   "id": "1956904c",
   "metadata": {
    "scrolled": true
   },
   "outputs": [
    {
     "data": {
      "text/plain": [
       "unknown    3705\n",
       "failure     490\n",
       "other       197\n",
       "success     129\n",
       "Name: previous_outcome, dtype: int64"
      ]
     },
     "execution_count": 24,
     "metadata": {},
     "output_type": "execute_result"
    }
   ],
   "source": [
    "df.previous_outcome.value_counts()"
   ]
  },
  {
   "cell_type": "code",
   "execution_count": 25,
   "id": "5f1a6292",
   "metadata": {},
   "outputs": [],
   "source": [
    "# Converted the Previous Outcome column into numeric based on -1 to failure, 0 to Unknown and Other, and 1 to Success. \n",
    "encode_outcome = {\"failure\":-1,\"unknown\":0,\"other\":0,\"success\":1}\n",
    "df.previous_outcome = df.previous_outcome.replace(encode_outcome)"
   ]
  },
  {
   "cell_type": "code",
   "execution_count": 26,
   "id": "90e252d7",
   "metadata": {
    "scrolled": true
   },
   "outputs": [
    {
     "data": {
      "text/plain": [
       "no     4000\n",
       "yes     521\n",
       "Name: client_subcribed, dtype: int64"
      ]
     },
     "execution_count": 26,
     "metadata": {},
     "output_type": "execute_result"
    }
   ],
   "source": [
    "df.client_subcribed.value_counts()"
   ]
  },
  {
   "cell_type": "code",
   "execution_count": 27,
   "id": "4a769141",
   "metadata": {},
   "outputs": [],
   "source": [
    "# Converted the Clent Subcription column into numeric based on 0 to No and Yes to 1.\n",
    "encode_subcribed = {\"no\":0,\"yes\":1}\n",
    "df.client_subcribed = df.client_subcribed.replace(encode_subcribed)"
   ]
  },
  {
   "cell_type": "code",
   "execution_count": 28,
   "id": "bc8771a6",
   "metadata": {
    "scrolled": true
   },
   "outputs": [
    {
     "data": {
      "text/plain": [
       "array([30, 33, 35, 59, 36, 39, 41, 43, 20, 31, 40, 56, 37, 25, 38, 42, 44,\n",
       "       26, 55, 67, 53, 68, 32, 49, 78, 23, 52, 34, 61, 45, 48, 57, 54, 63,\n",
       "       51, 29, 50, 27, 60, 28, 21, 58, 22, 46, 24, 77, 75, 47, 70, 65, 64,\n",
       "       62, 66, 19, 81, 83, 80, 71, 72, 69, 79, 73, 86, 74, 76, 87, 84],\n",
       "      dtype=int64)"
      ]
     },
     "execution_count": 28,
     "metadata": {},
     "output_type": "execute_result"
    }
   ],
   "source": [
    "df.age.unique()"
   ]
  },
  {
   "cell_type": "code",
   "execution_count": 29,
   "id": "064aaab7",
   "metadata": {},
   "outputs": [],
   "source": [
    "# Converted the Age values into Groups by applying the binning method to Limit the column values.\n",
    "df['age'] = pd.cut(df['age'], [19,30,40,50,60,87], labels=[20,30,40,50,60], include_lowest=True )"
   ]
  },
  {
   "cell_type": "code",
   "execution_count": 30,
   "id": "659af719",
   "metadata": {},
   "outputs": [
    {
     "data": {
      "text/plain": [
       "30    1800\n",
       "40    1162\n",
       "50     800\n",
       "20     632\n",
       "60     127\n",
       "Name: age, dtype: int64"
      ]
     },
     "execution_count": 30,
     "metadata": {},
     "output_type": "execute_result"
    }
   ],
   "source": [
    "df['age'].value_counts()"
   ]
  },
  {
   "cell_type": "code",
   "execution_count": 31,
   "id": "efd30c99",
   "metadata": {},
   "outputs": [],
   "source": [
    "# Converted the Last Contact Duration From Seconds to Minutes and Rename the Column accordingly.\n",
    "df[\"last_contact_duration_seconds\"] = (df[\"last_contact_duration_seconds\"] / 60).round(decimals=2)\n",
    "df = df.rename(columns={\"last_contact_duration_seconds\":\"last_contact_duration_minutes\"})"
   ]
  },
  {
   "cell_type": "code",
   "execution_count": 32,
   "id": "a3c3931b",
   "metadata": {},
   "outputs": [],
   "source": [
    "# df['last_contact_duration_seconds'] = df['last_contact_duration_seconds'].astype('datetime64[s]').dt.strftime(\"%M:%S\")"
   ]
  },
  {
   "cell_type": "code",
   "execution_count": 33,
   "id": "b690e536",
   "metadata": {
    "scrolled": true
   },
   "outputs": [
    {
     "name": "stdout",
     "output_type": "stream",
     "text": [
      "0.07\n",
      "50.42\n"
     ]
    }
   ],
   "source": [
    "print(df[\"last_contact_duration_minutes\"].unique().min())\n",
    "print(df[\"last_contact_duration_minutes\"].unique().max())"
   ]
  },
  {
   "cell_type": "code",
   "execution_count": 34,
   "id": "58a9459d",
   "metadata": {},
   "outputs": [],
   "source": [
    "# Limit the values of the Last Contacted Duration column by applying the binning method.\n",
    "df[\"last_contact_duration_minutes\"] = pd.cut(df[\"last_contact_duration_minutes\"], [0.07,1,2,3,4,5,10,50.42], labels=[1,2,3,4,5,10,20], include_lowest=True )"
   ]
  },
  {
   "cell_type": "code",
   "execution_count": 35,
   "id": "3e15c52c",
   "metadata": {},
   "outputs": [
    {
     "data": {
      "text/plain": [
       "0       357\n",
       "2        24\n",
       "1        15\n",
       "4        13\n",
       "5        11\n",
       "       ... \n",
       "539       1\n",
       "1041      1\n",
       "464       1\n",
       "7702      1\n",
       "1137      1\n",
       "Name: balance, Length: 2353, dtype: int64"
      ]
     },
     "execution_count": 35,
     "metadata": {},
     "output_type": "execute_result"
    }
   ],
   "source": [
    "df[\"balance\"].value_counts()"
   ]
  },
  {
   "cell_type": "code",
   "execution_count": 36,
   "id": "7d38009b",
   "metadata": {},
   "outputs": [],
   "source": [
    "# Converted the Balance values into Range by applying the binning method to Limit the column values.\n",
    "df[\"balance\"] = pd.cut(df[\"balance\"], [-3313,0,100,200,300,400,500,1000,2000,4000,71188], labels=[0,100,200,300,400,500,1000,2000,4000,5000], include_lowest=True )"
   ]
  },
  {
   "cell_type": "code",
   "execution_count": 37,
   "id": "cd3159ae",
   "metadata": {},
   "outputs": [
    {
     "data": {
      "text/plain": [
       "0       723\n",
       "1000    653\n",
       "2000    594\n",
       "100     533\n",
       "4000    454\n",
       "5000    433\n",
       "200     351\n",
       "300     298\n",
       "400     242\n",
       "500     240\n",
       "Name: balance, dtype: int64"
      ]
     },
     "execution_count": 37,
     "metadata": {},
     "output_type": "execute_result"
    }
   ],
   "source": [
    "df[\"balance\"].value_counts()"
   ]
  },
  {
   "cell_type": "code",
   "execution_count": 38,
   "id": "35d1166a",
   "metadata": {
    "scrolled": true
   },
   "outputs": [
    {
     "data": {
      "text/plain": [
       "-1      3705\n",
       " 182      23\n",
       " 183      20\n",
       " 363      12\n",
       " 92       12\n",
       "        ... \n",
       " 118       1\n",
       " 386       1\n",
       " 63        1\n",
       " 81        1\n",
       " 234       1\n",
       "Name: days_passed_last_contacted, Length: 292, dtype: int64"
      ]
     },
     "execution_count": 38,
     "metadata": {},
     "output_type": "execute_result"
    }
   ],
   "source": [
    "df[\"days_passed_last_contacted\"].value_counts()"
   ]
  },
  {
   "cell_type": "code",
   "execution_count": 39,
   "id": "8e596c4b",
   "metadata": {},
   "outputs": [
    {
     "data": {
      "text/plain": [
       "array([ -1, 339, 330, 176, 147, 241, 152, 105, 342, 101,   5,  92,  56,\n",
       "       170, 182, 297, 196, 460, 137, 367, 145, 169, 207, 266, 288, 168,\n",
       "       345, 436,  90, 183, 146, 335, 347, 119,   7, 271, 181,  88, 141,\n",
       "       126,  61, 373, 351, 242,  62,  91, 308, 250, 172, 265,  78,  28,\n",
       "        79,   1, 188, 167,  89, 164, 462, 209, 321, 254,  94, 364,  96,\n",
       "       356, 149, 363, 275, 325, 341, 260, 358,  87, 303,  98, 327, 337,\n",
       "       322, 102,  99, 370,  84, 212,  63,  81, 191, 360, 332,  80,  85,\n",
       "       247, 150, 175, 382, 261, 336,  58, 206, 112, 199, 133, 208, 253,\n",
       "       135, 278, 140, 298, 273, 124, 281, 162, 323, 349, 117,   2, 256,\n",
       "       333, 116, 268, 136, 198, 357, 259, 353, 174, 371, 205, 246,  69,\n",
       "       315, 110, 461, 184, 270, 127, 187,  64, 130, 346, 100, 352, 808,\n",
       "       113, 378, 292, 287, 107, 293, 139, 138, 193, 274,  97, 103, 359,\n",
       "       185, 674, 211, 300, 334, 280, 479,  95, 262, 362, 225,   3, 366,\n",
       "        60, 190, 368, 122, 343, 131, 365, 299, 115, 316, 180, 154, 313,\n",
       "       264, 350,  73, 232, 204, 143, 375, 186, 344, 210, 248, 177, 221,\n",
       "       189, 104, 258, 305, 171, 120, 317, 178, 386, 118, 404, 374, 282,\n",
       "       179, 284, 227, 291, 173, 871, 238, 294, 222, 435, 340, 426, 239,\n",
       "        83, 111, 415, 255, 235, 244,  38, 683, 329,  59, 151, 192, 158,\n",
       "       338, 388, 165, 348, 197, 295, 109, 484, 326, 369, 397, 414, 319,\n",
       "       474,  93, 249, 272, 355, 195,  82, 541, 231, 153, 201, 761, 114,\n",
       "       385, 267, 161, 467,  75, 106, 223, 312, 148, 309, 283,  86, 166,\n",
       "       160, 450, 500, 311, 123, 159, 687, 224, 361,  74,  76, 286,  77,\n",
       "        57, 219, 331, 804, 144, 234], dtype=int64)"
      ]
     },
     "execution_count": 39,
     "metadata": {},
     "output_type": "execute_result"
    }
   ],
   "source": [
    "df[\"days_passed_last_contacted\"].unique()"
   ]
  },
  {
   "cell_type": "code",
   "execution_count": 40,
   "id": "f19f7484",
   "metadata": {},
   "outputs": [],
   "source": [
    "# Limit the values of the Days passed last contact column by applying the binning method.\n",
    "df[\"days_passed_last_contacted\"] = pd.cut(df[\"days_passed_last_contacted\"], [-1,0,871], labels=[-1,1], include_lowest=True )"
   ]
  },
  {
   "cell_type": "code",
   "execution_count": 41,
   "id": "df389085",
   "metadata": {
    "scrolled": true
   },
   "outputs": [
    {
     "data": {
      "text/html": [
       "<div>\n",
       "<style scoped>\n",
       "    .dataframe tbody tr th:only-of-type {\n",
       "        vertical-align: middle;\n",
       "    }\n",
       "\n",
       "    .dataframe tbody tr th {\n",
       "        vertical-align: top;\n",
       "    }\n",
       "\n",
       "    .dataframe thead th {\n",
       "        text-align: right;\n",
       "    }\n",
       "</style>\n",
       "<table border=\"1\" class=\"dataframe\">\n",
       "  <thead>\n",
       "    <tr style=\"text-align: right;\">\n",
       "      <th></th>\n",
       "      <th>age</th>\n",
       "      <th>job</th>\n",
       "      <th>marital</th>\n",
       "      <th>education</th>\n",
       "      <th>credit_in_default</th>\n",
       "      <th>balance</th>\n",
       "      <th>housing_loan</th>\n",
       "      <th>personal_loan</th>\n",
       "      <th>contact_type</th>\n",
       "      <th>date_of_Month</th>\n",
       "      <th>last_contacted_month</th>\n",
       "      <th>last_contact_duration_minutes</th>\n",
       "      <th>contacted_during_campaign</th>\n",
       "      <th>days_passed_last_contacted</th>\n",
       "      <th>contacted_before_campaign</th>\n",
       "      <th>previous_outcome</th>\n",
       "      <th>client_subcribed</th>\n",
       "    </tr>\n",
       "  </thead>\n",
       "  <tbody>\n",
       "    <tr>\n",
       "      <th>0</th>\n",
       "      <td>20</td>\n",
       "      <td>3</td>\n",
       "      <td>2</td>\n",
       "      <td>1</td>\n",
       "      <td>0</td>\n",
       "      <td>2000</td>\n",
       "      <td>0</td>\n",
       "      <td>0</td>\n",
       "      <td>1</td>\n",
       "      <td>19</td>\n",
       "      <td>10</td>\n",
       "      <td>2</td>\n",
       "      <td>1</td>\n",
       "      <td>-1</td>\n",
       "      <td>0</td>\n",
       "      <td>0</td>\n",
       "      <td>0</td>\n",
       "    </tr>\n",
       "    <tr>\n",
       "      <th>1</th>\n",
       "      <td>30</td>\n",
       "      <td>7</td>\n",
       "      <td>2</td>\n",
       "      <td>2</td>\n",
       "      <td>0</td>\n",
       "      <td>5000</td>\n",
       "      <td>1</td>\n",
       "      <td>1</td>\n",
       "      <td>1</td>\n",
       "      <td>11</td>\n",
       "      <td>5</td>\n",
       "      <td>4</td>\n",
       "      <td>1</td>\n",
       "      <td>1</td>\n",
       "      <td>4</td>\n",
       "      <td>-1</td>\n",
       "      <td>0</td>\n",
       "    </tr>\n",
       "    <tr>\n",
       "      <th>2</th>\n",
       "      <td>30</td>\n",
       "      <td>11</td>\n",
       "      <td>1</td>\n",
       "      <td>3</td>\n",
       "      <td>0</td>\n",
       "      <td>2000</td>\n",
       "      <td>1</td>\n",
       "      <td>0</td>\n",
       "      <td>1</td>\n",
       "      <td>16</td>\n",
       "      <td>4</td>\n",
       "      <td>4</td>\n",
       "      <td>1</td>\n",
       "      <td>1</td>\n",
       "      <td>1</td>\n",
       "      <td>-1</td>\n",
       "      <td>0</td>\n",
       "    </tr>\n",
       "    <tr>\n",
       "      <th>3</th>\n",
       "      <td>20</td>\n",
       "      <td>11</td>\n",
       "      <td>2</td>\n",
       "      <td>3</td>\n",
       "      <td>0</td>\n",
       "      <td>2000</td>\n",
       "      <td>1</td>\n",
       "      <td>1</td>\n",
       "      <td>0</td>\n",
       "      <td>3</td>\n",
       "      <td>6</td>\n",
       "      <td>4</td>\n",
       "      <td>4</td>\n",
       "      <td>-1</td>\n",
       "      <td>0</td>\n",
       "      <td>0</td>\n",
       "      <td>0</td>\n",
       "    </tr>\n",
       "    <tr>\n",
       "      <th>4</th>\n",
       "      <td>50</td>\n",
       "      <td>10</td>\n",
       "      <td>2</td>\n",
       "      <td>2</td>\n",
       "      <td>0</td>\n",
       "      <td>0</td>\n",
       "      <td>1</td>\n",
       "      <td>0</td>\n",
       "      <td>0</td>\n",
       "      <td>5</td>\n",
       "      <td>5</td>\n",
       "      <td>4</td>\n",
       "      <td>1</td>\n",
       "      <td>-1</td>\n",
       "      <td>0</td>\n",
       "      <td>0</td>\n",
       "      <td>0</td>\n",
       "    </tr>\n",
       "  </tbody>\n",
       "</table>\n",
       "</div>"
      ],
      "text/plain": [
       "  age  job  marital  education  credit_in_default balance  housing_loan  \\\n",
       "0  20    3        2          1                  0    2000             0   \n",
       "1  30    7        2          2                  0    5000             1   \n",
       "2  30   11        1          3                  0    2000             1   \n",
       "3  20   11        2          3                  0    2000             1   \n",
       "4  50   10        2          2                  0       0             1   \n",
       "\n",
       "   personal_loan  contact_type  date_of_Month  last_contacted_month  \\\n",
       "0              0             1             19                    10   \n",
       "1              1             1             11                     5   \n",
       "2              0             1             16                     4   \n",
       "3              1             0              3                     6   \n",
       "4              0             0              5                     5   \n",
       "\n",
       "  last_contact_duration_minutes  contacted_during_campaign  \\\n",
       "0                             2                          1   \n",
       "1                             4                          1   \n",
       "2                             4                          1   \n",
       "3                             4                          4   \n",
       "4                             4                          1   \n",
       "\n",
       "  days_passed_last_contacted  contacted_before_campaign  previous_outcome  \\\n",
       "0                         -1                          0                 0   \n",
       "1                          1                          4                -1   \n",
       "2                          1                          1                -1   \n",
       "3                         -1                          0                 0   \n",
       "4                         -1                          0                 0   \n",
       "\n",
       "   client_subcribed  \n",
       "0                 0  \n",
       "1                 0  \n",
       "2                 0  \n",
       "3                 0  \n",
       "4                 0  "
      ]
     },
     "execution_count": 41,
     "metadata": {},
     "output_type": "execute_result"
    }
   ],
   "source": [
    "df.head()"
   ]
  },
  {
   "cell_type": "markdown",
   "id": "e9af4566",
   "metadata": {},
   "source": [
    "# Machine Learning Logistic Regression"
   ]
  },
  {
   "cell_type": "code",
   "execution_count": 42,
   "id": "59911ce7",
   "metadata": {},
   "outputs": [],
   "source": [
    "# Define X Variable\n",
    "X = df.drop(\"client_subcribed\",axis=1)"
   ]
  },
  {
   "cell_type": "code",
   "execution_count": 43,
   "id": "a85832b4",
   "metadata": {},
   "outputs": [],
   "source": [
    "# Define y Variable\n",
    "y = df[\"client_subcribed\"]"
   ]
  },
  {
   "cell_type": "code",
   "execution_count": 44,
   "id": "845906ad",
   "metadata": {},
   "outputs": [],
   "source": [
    "# Import Hold-out Splitting Technique\n",
    "from sklearn.model_selection import train_test_split "
   ]
  },
  {
   "cell_type": "code",
   "execution_count": 45,
   "id": "c04a5b06",
   "metadata": {},
   "outputs": [],
   "source": [
    "X_train,X_test,y_train,y_test = train_test_split(X,y,test_size=0.3,random_state = 42) # 30-70 standard rule"
   ]
  },
  {
   "cell_type": "code",
   "execution_count": 46,
   "id": "a76cc6a3",
   "metadata": {},
   "outputs": [],
   "source": [
    "# Import Logistic Regression ALgo\n",
    "from sklearn.linear_model import LogisticRegression "
   ]
  },
  {
   "cell_type": "code",
   "execution_count": 47,
   "id": "3e304a43",
   "metadata": {},
   "outputs": [],
   "source": [
    "# object\n",
    "modelLogR = LogisticRegression()"
   ]
  },
  {
   "cell_type": "code",
   "execution_count": 48,
   "id": "c5714bfe",
   "metadata": {},
   "outputs": [
    {
     "name": "stderr",
     "output_type": "stream",
     "text": [
      "C:\\Users\\navee\\Anaconda3\\lib\\site-packages\\sklearn\\linear_model\\_logistic.py:814: ConvergenceWarning: lbfgs failed to converge (status=1):\n",
      "STOP: TOTAL NO. of ITERATIONS REACHED LIMIT.\n",
      "\n",
      "Increase the number of iterations (max_iter) or scale the data as shown in:\n",
      "    https://scikit-learn.org/stable/modules/preprocessing.html\n",
      "Please also refer to the documentation for alternative solver options:\n",
      "    https://scikit-learn.org/stable/modules/linear_model.html#logistic-regression\n",
      "  n_iter_i = _check_optimize_result(\n"
     ]
    },
    {
     "data": {
      "text/plain": [
       "LogisticRegression()"
      ]
     },
     "execution_count": 48,
     "metadata": {},
     "output_type": "execute_result"
    }
   ],
   "source": [
    "# Fit the Model\n",
    "modelLogR.fit(X_train,y_train)"
   ]
  },
  {
   "cell_type": "code",
   "execution_count": 49,
   "id": "823c90ac",
   "metadata": {},
   "outputs": [],
   "source": [
    "#Prediction\n",
    "preLogR = modelLogR.predict(X_test)"
   ]
  },
  {
   "cell_type": "code",
   "execution_count": 50,
   "id": "d1a9d98a",
   "metadata": {},
   "outputs": [],
   "source": [
    "from sklearn.metrics import classification_report, accuracy_score # Classification Report"
   ]
  },
  {
   "cell_type": "code",
   "execution_count": 51,
   "id": "76c7bdbb",
   "metadata": {},
   "outputs": [
    {
     "name": "stdout",
     "output_type": "stream",
     "text": [
      "              precision    recall  f1-score   support\n",
      "\n",
      "           0       0.91      0.97      0.94      1205\n",
      "           1       0.53      0.23      0.32       152\n",
      "\n",
      "    accuracy                           0.89      1357\n",
      "   macro avg       0.72      0.60      0.63      1357\n",
      "weighted avg       0.87      0.89      0.87      1357\n",
      "\n"
     ]
    }
   ],
   "source": [
    "print(classification_report(y_test,preLogR))"
   ]
  },
  {
   "cell_type": "code",
   "execution_count": 52,
   "id": "f5e8053d",
   "metadata": {},
   "outputs": [],
   "source": [
    "# Import Cross Validation,  K-Fold and Stratified K-Fold Splitting Technique\n",
    "from sklearn.model_selection import train_test_split, KFold, StratifiedKFold, cross_val_score "
   ]
  },
  {
   "cell_type": "code",
   "execution_count": 53,
   "id": "65f7e9ee",
   "metadata": {},
   "outputs": [],
   "source": [
    "# Simple Kfold\n",
    "kf1 = KFold(n_splits=10, random_state=42, shuffle=True)\n",
    "\n",
    "# Stratified K-fold\n",
    "Skf1 = StratifiedKFold(n_splits=10, random_state=42, shuffle=True)"
   ]
  },
  {
   "cell_type": "code",
   "execution_count": 54,
   "id": "7f3065e7",
   "metadata": {},
   "outputs": [],
   "source": [
    "scores_cv1_accuracy = cross_val_score(modelLogR, X, y, scoring='accuracy', cv=kf1, n_jobs=-1)\n",
    "scores_cv1_precision = cross_val_score(modelLogR, X, y, scoring='precision', cv=kf1, n_jobs=-1)\n",
    "scores_cv1_recall = cross_val_score(modelLogR, X, y, scoring='recall', cv=kf1, n_jobs=-1)\n"
   ]
  },
  {
   "cell_type": "code",
   "execution_count": 55,
   "id": "69567156",
   "metadata": {},
   "outputs": [
    {
     "name": "stdout",
     "output_type": "stream",
     "text": [
      "Accuracy : 0.8843149895485359\n",
      "Precision : 0.49955806912409884\n",
      "Recall : 0.22323310560068177\n"
     ]
    }
   ],
   "source": [
    "# --- Simple Kfold ---\n",
    "print(\"Accuracy :\",scores_cv1_accuracy.mean())\n",
    "print(\"Precision :\",scores_cv1_precision.mean())\n",
    "print(\"Recall :\",scores_cv1_recall.mean())\n"
   ]
  },
  {
   "cell_type": "code",
   "execution_count": 56,
   "id": "8add79e6",
   "metadata": {},
   "outputs": [],
   "source": [
    "scores_skf1_accuracy = cross_val_score(modelLogR, X, y, scoring='accuracy', cv=Skf1, n_jobs=-1)\n",
    "scores_skf1_precision = cross_val_score(modelLogR, X, y, scoring='precision', cv=Skf1, n_jobs=-1)\n",
    "scores_skf1_recall = cross_val_score(modelLogR, X, y, scoring='recall', cv=Skf1, n_jobs=-1)\n"
   ]
  },
  {
   "cell_type": "code",
   "execution_count": 57,
   "id": "5ee05f83",
   "metadata": {},
   "outputs": [
    {
     "name": "stdout",
     "output_type": "stream",
     "text": [
      "Accuracy : 0.8845391588036492\n",
      "Precision : 0.4985289628671983\n",
      "Recall : 0.19586357039187227\n"
     ]
    }
   ],
   "source": [
    "# --- stratified Kfold ----\n",
    "print(\"Accuracy :\",scores_skf1_accuracy.mean())\n",
    "print(\"Precision :\",scores_skf1_precision.mean())\n",
    "print(\"Recall :\",scores_skf1_recall.mean())\n"
   ]
  },
  {
   "cell_type": "markdown",
   "id": "e0ae43f7",
   "metadata": {},
   "source": [
    "# Machine Learning KNN"
   ]
  },
  {
   "cell_type": "code",
   "execution_count": 58,
   "id": "054896d6",
   "metadata": {},
   "outputs": [],
   "source": [
    "# Import KNN Algo\n",
    "from sklearn.neighbors import KNeighborsClassifier \n",
    "# from sklearn.metrics import r2_score"
   ]
  },
  {
   "cell_type": "code",
   "execution_count": 59,
   "id": "7c1bf5d6",
   "metadata": {},
   "outputs": [],
   "source": [
    "modelKNN = KNeighborsClassifier(n_neighbors=3) "
   ]
  },
  {
   "cell_type": "code",
   "execution_count": 60,
   "id": "a40dd395",
   "metadata": {},
   "outputs": [
    {
     "data": {
      "text/plain": [
       "KNeighborsClassifier(n_neighbors=3)"
      ]
     },
     "execution_count": 60,
     "metadata": {},
     "output_type": "execute_result"
    }
   ],
   "source": [
    "modelKNN.fit(X_train,y_train)"
   ]
  },
  {
   "cell_type": "code",
   "execution_count": 61,
   "id": "d8bc62dc",
   "metadata": {},
   "outputs": [],
   "source": [
    "preKNN=modelKNN.predict(X_test)"
   ]
  },
  {
   "cell_type": "code",
   "execution_count": 62,
   "id": "d8cb6c3b",
   "metadata": {
    "scrolled": true
   },
   "outputs": [
    {
     "name": "stdout",
     "output_type": "stream",
     "text": [
      "              precision    recall  f1-score   support\n",
      "\n",
      "           0       0.91      0.96      0.93      1205\n",
      "           1       0.40      0.22      0.29       152\n",
      "\n",
      "    accuracy                           0.88      1357\n",
      "   macro avg       0.65      0.59      0.61      1357\n",
      "weighted avg       0.85      0.88      0.86      1357\n",
      "\n"
     ]
    }
   ],
   "source": [
    "print(classification_report(y_test,preKNN))"
   ]
  },
  {
   "cell_type": "code",
   "execution_count": 63,
   "id": "819fac8d",
   "metadata": {},
   "outputs": [],
   "source": [
    "# Simple Kfold\n",
    "kf2 = KFold(n_splits=8, random_state=42, shuffle=True)\n",
    "\n",
    "# Stratified K-fold\n",
    "Skf2 = StratifiedKFold(n_splits=8, random_state=42, shuffle=True)"
   ]
  },
  {
   "cell_type": "code",
   "execution_count": 64,
   "id": "eb4aaaa7",
   "metadata": {},
   "outputs": [],
   "source": [
    "# --- Simple Kfold ---\n",
    "scores_cv2_accuracy = cross_val_score(modelKNN, X, y, scoring='accuracy', cv=kf2, n_jobs=-1)\n",
    "scores_cv2_precision = cross_val_score(modelKNN, X, y, scoring='precision', cv=kf2, n_jobs=-1)\n",
    "scores_cv2_recall = cross_val_score(modelKNN, X, y, scoring='recall', cv=kf2, n_jobs=-1)"
   ]
  },
  {
   "cell_type": "code",
   "execution_count": 65,
   "id": "38c04410",
   "metadata": {},
   "outputs": [
    {
     "name": "stdout",
     "output_type": "stream",
     "text": [
      "Accuracy : 0.8725933425060196\n",
      "Precision : 0.39405089521632386\n",
      "Recall : 0.20686948436173225\n"
     ]
    }
   ],
   "source": [
    "# --- Simple Kfold ---\n",
    "print(\"Accuracy :\",scores_cv2_accuracy.mean())\n",
    "print(\"Precision :\",scores_cv2_precision.mean())\n",
    "print(\"Recall :\",scores_cv2_recall.mean())"
   ]
  },
  {
   "cell_type": "code",
   "execution_count": 66,
   "id": "655dcb61",
   "metadata": {},
   "outputs": [],
   "source": [
    "# --- stratified Kfold ----\n",
    "scores_skf2_accuracy = cross_val_score(modelKNN, X, y, scoring='accuracy', cv=Skf2, n_jobs=-1)\n",
    "scores_skf2_precision = cross_val_score(modelKNN, X, y, scoring='precision', cv=Skf2, n_jobs=-1)\n",
    "scores_skf2_recall = cross_val_score(modelKNN, X, y, scoring='recall', cv=Skf2, n_jobs=-1)"
   ]
  },
  {
   "cell_type": "code",
   "execution_count": 67,
   "id": "83996e91",
   "metadata": {},
   "outputs": [
    {
     "name": "stdout",
     "output_type": "stream",
     "text": [
      "Accuracy : 0.8721516463929453\n",
      "Precision : 0.395067983397121\n",
      "Recall : 0.20734265734265733\n"
     ]
    }
   ],
   "source": [
    "# --- stratified Kfold ----\n",
    "print(\"Accuracy :\",scores_skf2_accuracy.mean())\n",
    "print(\"Precision :\",scores_skf2_precision.mean())\n",
    "print(\"Recall :\",scores_skf2_recall.mean())\n"
   ]
  },
  {
   "cell_type": "code",
   "execution_count": 68,
   "id": "e3bbeb75",
   "metadata": {},
   "outputs": [
    {
     "name": "stderr",
     "output_type": "stream",
     "text": [
      "C:\\Users\\navee\\AppData\\Local\\Temp\\ipykernel_10624\\4260473681.py:1: DeprecationWarning: Importing display from IPython.core.display is deprecated since IPython 7.14, please import from IPython display\n",
      "  from IPython.core.display import Image, display\n"
     ]
    },
    {
     "data": {
      "image/png": "[encoded data removed]",
      "text/plain": [
       "<IPython.core.display.Image object>"
      ]
     },
     "metadata": {},
     "output_type": "display_data"
    }
   ],
   "source": [
    "# Summary Table\n",
    "from IPython.core.display import Image, display\n",
    "display(Image(filename='Report.png'))"
   ]
  }
 ],
 "metadata": {
  "kernelspec": {
   "display_name": "Python 3 (ipykernel)",
   "language": "python",
   "name": "python3"
  },
  "language_info": {
   "codemirror_mode": {
    "name": "ipython",
    "version": 3
   },
   "file_extension": ".py",
   "mimetype": "text/x-python",
   "name": "python",
   "nbconvert_exporter": "python",
   "pygments_lexer": "ipython3",
   "version": "3.9.12"
  }
 },
 "nbformat": 4,
 "nbformat_minor": 5
}
